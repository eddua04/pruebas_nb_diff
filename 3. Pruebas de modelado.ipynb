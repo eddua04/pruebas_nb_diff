{
 "cells": [
  {
   "cell_type": "markdown",
   "id": "9e898b81",
   "metadata": {
    "hide_input": false
   },
   "source": [
    "__Proyecto__: Predicción de temperatura en el distribuidor de Colada continua <br>\n",
    "__Fecha de inicio__: 13 noviembre 2021 <br>\n",
    "__Fecha ultima actualizacion__: 15 agosto 2022 <br>\n",
    "__Desarrollo__: Aracely Mtz <br>\n",
    "\n",
    "# Objective\n",
    "\n",
    "Mejoras al modelo de caída de temperatura versión 1 ya implementado"
   ]
  },
  {
   "cell_type": "markdown",
   "id": "8cd4f48a",
   "metadata": {},
   "source": [
    "# Libraries"
   ]
  },
  {
   "cell_type": "code",
   "execution_count": 314,
   "id": "c93864af",
   "metadata": {
    "ExecuteTime": {
     "end_time": "2022-11-09T17:55:05.061363Z",
     "start_time": "2022-11-09T17:55:05.047244Z"
    }
   },
   "outputs": [],
   "source": [
    "import numpy as np\n",
    "import pandas as pd\n",
    "import matplotlib.pyplot as plt\n",
    "import os, sys\n",
    "import math\n",
    "import seaborn as sns\n",
    "\n",
    "from sklearn.pipeline import Pipeline\n",
    "from sklearn.preprocessing import QuantileTransformer, quantile_transform\n",
    "from sklearn.preprocessing import StandardScaler, MinMaxScaler\n",
    "\n",
    "from sklearn.model_selection import train_test_split \n",
    "from sklearn.model_selection import RandomizedSearchCV\n",
    "from sklearn.linear_model import LinearRegression, RidgeCV\n",
    "from sklearn.ensemble import GradientBoostingRegressor\n",
    "from catboost import CatBoostRegressor\n",
    "from sklearn.ensemble import RandomForestRegressor\n",
    "\n",
    "from sklearn.metrics import mean_squared_error, median_absolute_error, r2_score\n",
    "from sklearn.utils.fixes import parse_version\n",
    "import pickle "
   ]
  },
  {
   "cell_type": "code",
   "execution_count": 315,
   "id": "92fb3ca3",
   "metadata": {
    "ExecuteTime": {
     "end_time": "2022-11-09T17:55:05.077359Z",
     "start_time": "2022-11-09T17:55:05.063388Z"
    }
   },
   "outputs": [],
   "source": [
    "plt.rcParams.update({'font.size': 12})"
   ]
  },
  {
   "cell_type": "markdown",
   "id": "fff6c911",
   "metadata": {},
   "source": [
    "## Clases y definiciones"
   ]
  },
  {
   "cell_type": "code",
   "execution_count": 316,
   "id": "df27b9df",
   "metadata": {
    "ExecuteTime": {
     "end_time": "2022-11-09T17:55:05.092506Z",
     "start_time": "2022-11-09T17:55:05.079359Z"
    }
   },
   "outputs": [],
   "source": [
    "sys.path.append(\"../../../\")\n",
    "from utils.utils import PlotHistBoxplot, PlotPredictionRes,outliersIQR, PlotMissingBar, GraficasResultados"
   ]
  },
  {
   "cell_type": "markdown",
   "id": "5723c9ea",
   "metadata": {},
   "source": [
    "# Leer datos "
   ]
  },
  {
   "cell_type": "code",
   "execution_count": 317,
   "id": "7d4ac455",
   "metadata": {
    "ExecuteTime": {
     "end_time": "2022-11-09T17:55:05.107950Z",
     "start_time": "2022-11-09T17:55:05.094502Z"
    }
   },
   "outputs": [
    {
     "data": {
      "text/plain": [
       "'D:\\\\PROYECTOS\\\\GitHub\\\\Acerias-Celaya\\\\Caída de Temperatura\\\\notebooks\\\\Prediccion_TemperaturaHA'"
      ]
     },
     "execution_count": 317,
     "metadata": {},
     "output_type": "execute_result"
    }
   ],
   "source": [
    "pwd"
   ]
  },
  {
   "cell_type": "markdown",
   "id": "1870dc5b",
   "metadata": {},
   "source": [
    "* Correr las secciones 1-3, 6 y 8 del notebook 1.1 Análisis de muestras de temperatura. Cargar únicamente datos de temperatura. Esto genera los datos de caída de temperatura. Ignorar las secciones 4, 5 y 7.\n",
    "* Correr el notebook 1.2 para crear los arcvhivos de entrada para este, ignorar las secciones 5 y 6."
   ]
  },
  {
   "cell_type": "code",
   "execution_count": 318,
   "id": "53d2bdb0",
   "metadata": {
    "ExecuteTime": {
     "end_time": "2022-11-09T17:55:05.123565Z",
     "start_time": "2022-11-09T17:55:05.109040Z"
    }
   },
   "outputs": [],
   "source": [
    "# Leer datos \n",
    "root = f\"../../data/data_modelo/THA_finales/\"\n",
    "# version = "
   ]
  },
  {
   "cell_type": "code",
   "execution_count": 319,
   "id": "e0f1b44c",
   "metadata": {
    "ExecuteTime": {
     "end_time": "2022-11-09T17:55:05.139611Z",
     "start_time": "2022-11-09T17:55:05.124530Z"
    },
    "scrolled": false
   },
   "outputs": [
    {
     "name": "stdout",
     "output_type": "stream",
     "text": [
      "THA_dataset.csv\n",
      "THA_dataset_H2.csv\n"
     ]
    }
   ],
   "source": [
    "# Revisamos los archivos que estan en el directorio\n",
    "for file in os.listdir(root):\n",
    "    print(file)"
   ]
  },
  {
   "cell_type": "code",
   "execution_count": 320,
   "id": "0c98b1ad",
   "metadata": {
    "ExecuteTime": {
     "end_time": "2022-11-09T17:55:05.498803Z",
     "start_time": "2022-11-09T17:55:05.140576Z"
    },
    "scrolled": true
   },
   "outputs": [
    {
     "data": {
      "text/html": [
       "<div>\n",
       "<style scoped>\n",
       "    .dataframe tbody tr th:only-of-type {\n",
       "        vertical-align: middle;\n",
       "    }\n",
       "\n",
       "    .dataframe tbody tr th {\n",
       "        vertical-align: top;\n",
       "    }\n",
       "\n",
       "    .dataframe thead th {\n",
       "        text-align: right;\n",
       "    }\n",
       "</style>\n",
       "<table border=\"1\" class=\"dataframe\">\n",
       "  <thead>\n",
       "    <tr style=\"text-align: right;\">\n",
       "      <th></th>\n",
       "      <th>TUNDISH_HEAT_COUNTER</th>\n",
       "      <th>LADLE_LIFE</th>\n",
       "      <th>LADLE_TOTAL_WEIGHT_RS</th>\n",
       "      <th>LADLE_EMPTY_TIME</th>\n",
       "      <th>LADLE_FULL_TIME_CURRENT</th>\n",
       "      <th>CASTING_TIME</th>\n",
       "      <th>TRANSFER_TIME_RS_CCM</th>\n",
       "      <th>t_liquidus</th>\n",
       "      <th>cla_horno</th>\n",
       "      <th>nom_grado</th>\n",
       "      <th>SH_promedio</th>\n",
       "      <th>first_afino</th>\n",
       "      <th>mean_temp_colada</th>\n",
       "      <th>last_afino</th>\n",
       "    </tr>\n",
       "    <tr>\n",
       "      <th>cla_colada</th>\n",
       "      <th></th>\n",
       "      <th></th>\n",
       "      <th></th>\n",
       "      <th></th>\n",
       "      <th></th>\n",
       "      <th></th>\n",
       "      <th></th>\n",
       "      <th></th>\n",
       "      <th></th>\n",
       "      <th></th>\n",
       "      <th></th>\n",
       "      <th></th>\n",
       "      <th></th>\n",
       "      <th></th>\n",
       "    </tr>\n",
       "  </thead>\n",
       "  <tbody>\n",
       "    <tr>\n",
       "      <th>189462</th>\n",
       "      <td>29</td>\n",
       "      <td>24.0</td>\n",
       "      <td>112.64226</td>\n",
       "      <td>80.333333</td>\n",
       "      <td>7.633333</td>\n",
       "      <td>35.0</td>\n",
       "      <td>12.116633</td>\n",
       "      <td>1466.99827</td>\n",
       "      <td>2</td>\n",
       "      <td>1078 CG</td>\n",
       "      <td>28.50173</td>\n",
       "      <td>1512</td>\n",
       "      <td>1495.50</td>\n",
       "      <td>1525</td>\n",
       "    </tr>\n",
       "    <tr>\n",
       "      <th>189466</th>\n",
       "      <td>4</td>\n",
       "      <td>2.0</td>\n",
       "      <td>115.60653</td>\n",
       "      <td>30.783333</td>\n",
       "      <td>6.600000</td>\n",
       "      <td>48.0</td>\n",
       "      <td>13.333367</td>\n",
       "      <td>1528.51518</td>\n",
       "      <td>2</td>\n",
       "      <td>1004 CEL</td>\n",
       "      <td>23.68482</td>\n",
       "      <td>1558</td>\n",
       "      <td>1552.20</td>\n",
       "      <td>1605</td>\n",
       "    </tr>\n",
       "    <tr>\n",
       "      <th>189467</th>\n",
       "      <td>5</td>\n",
       "      <td>26.0</td>\n",
       "      <td>118.57080</td>\n",
       "      <td>22.750000</td>\n",
       "      <td>7.800000</td>\n",
       "      <td>40.0</td>\n",
       "      <td>13.333300</td>\n",
       "      <td>1528.22774</td>\n",
       "      <td>2</td>\n",
       "      <td>1004 CEL</td>\n",
       "      <td>31.02226</td>\n",
       "      <td>1539</td>\n",
       "      <td>1559.25</td>\n",
       "      <td>1597</td>\n",
       "    </tr>\n",
       "  </tbody>\n",
       "</table>\n",
       "</div>"
      ],
      "text/plain": [
       "            TUNDISH_HEAT_COUNTER  LADLE_LIFE  LADLE_TOTAL_WEIGHT_RS  \\\n",
       "cla_colada                                                            \n",
       "189462                        29        24.0              112.64226   \n",
       "189466                         4         2.0              115.60653   \n",
       "189467                         5        26.0              118.57080   \n",
       "\n",
       "            LADLE_EMPTY_TIME  LADLE_FULL_TIME_CURRENT  CASTING_TIME  \\\n",
       "cla_colada                                                            \n",
       "189462             80.333333                 7.633333          35.0   \n",
       "189466             30.783333                 6.600000          48.0   \n",
       "189467             22.750000                 7.800000          40.0   \n",
       "\n",
       "            TRANSFER_TIME_RS_CCM  t_liquidus  cla_horno nom_grado  \\\n",
       "cla_colada                                                          \n",
       "189462                 12.116633  1466.99827          2   1078 CG   \n",
       "189466                 13.333367  1528.51518          2  1004 CEL   \n",
       "189467                 13.333300  1528.22774          2  1004 CEL   \n",
       "\n",
       "            SH_promedio  first_afino  mean_temp_colada  last_afino  \n",
       "cla_colada                                                          \n",
       "189462         28.50173         1512           1495.50        1525  \n",
       "189466         23.68482         1558           1552.20        1605  \n",
       "189467         31.02226         1539           1559.25        1597  "
      ]
     },
     "execution_count": 320,
     "metadata": {},
     "output_type": "execute_result"
    }
   ],
   "source": [
    "# Dataset que se genera en los notebooks exploratorios\n",
    "# Ruta del archivo donde se genera el dataset\n",
    "#\"GitHub\\Acerias-Celaya\\Caída de Temperatura\\notebooks\\2.A Análisis Exploratorio y Limpieza de información CT_raw H1.ipynb\"\n",
    "\n",
    "dataset = pd.read_csv(f\"{root}THA_dataset.csv\",index_col = \"cla_colada\")\n",
    "dataset.head(3)"
   ]
  },
  {
   "cell_type": "markdown",
   "id": "4c7118e0",
   "metadata": {},
   "source": [
    "# Configuración de variables"
   ]
  },
  {
   "cell_type": "code",
   "execution_count": 321,
   "id": "3406578f",
   "metadata": {
    "ExecuteTime": {
     "end_time": "2022-11-09T17:55:05.514346Z",
     "start_time": "2022-11-09T17:55:05.500797Z"
    },
    "scrolled": true
   },
   "outputs": [
    {
     "data": {
      "text/plain": [
       "Index(['TUNDISH_HEAT_COUNTER', 'LADLE_LIFE', 'LADLE_TOTAL_WEIGHT_RS',\n",
       "       'LADLE_EMPTY_TIME', 'LADLE_FULL_TIME_CURRENT', 'CASTING_TIME',\n",
       "       'TRANSFER_TIME_RS_CCM', 't_liquidus', 'cla_horno', 'nom_grado',\n",
       "       'SH_promedio', 'first_afino', 'mean_temp_colada', 'last_afino'],\n",
       "      dtype='object')"
      ]
     },
     "execution_count": 321,
     "metadata": {},
     "output_type": "execute_result"
    }
   ],
   "source": [
    "dataset.columns"
   ]
  },
  {
   "cell_type": "code",
   "execution_count": 322,
   "id": "ebf1fddf",
   "metadata": {
    "ExecuteTime": {
     "end_time": "2022-11-09T17:55:05.544942Z",
     "start_time": "2022-11-09T17:55:05.517338Z"
    }
   },
   "outputs": [
    {
     "name": "stderr",
     "output_type": "stream",
     "text": [
      "C:\\Users\\ARAMAR\\Anaconda3\\envs\\deacero\\lib\\site-packages\\pandas\\core\\frame.py:4174: SettingWithCopyWarning: \n",
      "A value is trying to be set on a copy of a slice from a DataFrame\n",
      "\n",
      "See the caveats in the documentation: https://pandas.pydata.org/pandas-docs/stable/user_guide/indexing.html#returning-a-view-versus-a-copy\n",
      "  errors=errors,\n"
     ]
    }
   ],
   "source": [
    "data_H1 = dataset[dataset[\"cla_horno\"] == 2] #Horno 1\n",
    "data_H2 = dataset[dataset[\"cla_horno\"] == 3] #Horno 2\n",
    "\n",
    "data_H1.drop(\"cla_horno\", axis = 1, inplace = True)\n",
    "data_H2.drop(\"cla_horno\", axis = 1, inplace = True)"
   ]
  },
  {
   "cell_type": "code",
   "execution_count": 323,
   "id": "6a139bd7",
   "metadata": {
    "ExecuteTime": {
     "end_time": "2022-11-09T17:55:05.560421Z",
     "start_time": "2022-11-09T17:55:05.545908Z"
    }
   },
   "outputs": [
    {
     "data": {
      "text/plain": [
       "((950, 13), (4320, 13))"
      ]
     },
     "execution_count": 323,
     "metadata": {},
     "output_type": "execute_result"
    }
   ],
   "source": [
    "data_H1.shape, data_H2.shape"
   ]
  },
  {
   "cell_type": "code",
   "execution_count": 324,
   "id": "73a2a511",
   "metadata": {
    "ExecuteTime": {
     "end_time": "2022-11-09T17:55:05.575898Z",
     "start_time": "2022-11-09T17:55:05.561383Z"
    }
   },
   "outputs": [],
   "source": [
    "# Definir variables depedientes e independientes\n",
    "tar = \"last_afino\"\n",
    "variables = ['TUNDISH_HEAT_COUNTER', 'LADLE_LIFE', 'LADLE_TOTAL_WEIGHT_RS',\n",
    "       'LADLE_EMPTY_TIME', 'LADLE_FULL_TIME_CURRENT', 'CASTING_TIME',\n",
    "       'TRANSFER_TIME_RS_CCM', 't_liquidus','first_afino',\n",
    "       'mean_temp_colada']"
   ]
  },
  {
   "cell_type": "markdown",
   "id": "475044d2",
   "metadata": {},
   "source": [
    "# Preparación de datos"
   ]
  },
  {
   "cell_type": "code",
   "execution_count": 325,
   "id": "898c6e0b",
   "metadata": {
    "ExecuteTime": {
     "end_time": "2022-11-09T17:55:06.247158Z",
     "start_time": "2022-11-09T17:55:05.577406Z"
    },
    "scrolled": false
   },
   "outputs": [
    {
     "data": {
      "image/png": "[encoded data removed]",
      "text/plain": [
       "<Figure size 432x288 with 1 Axes>"
      ]
     },
     "metadata": {
      "needs_background": "light"
     },
     "output_type": "display_data"
    },
    {
     "data": {
      "image/png": "[encoded data removed]",
      "text/plain": [
       "<Figure size 432x288 with 1 Axes>"
      ]
     },
     "metadata": {
      "needs_background": "light"
     },
     "output_type": "display_data"
    }
   ],
   "source": [
    "# Horno 1\n",
    "\n",
    "sns.histplot(data_H1[tar])\n",
    "plt.title(\"Horno 1\")\n",
    "plt.show()\n",
    "\n",
    "sns.histplot(data_H2[tar])\n",
    "plt.title(\"Horno 2\")\n",
    "plt.show()"
   ]
  },
  {
   "cell_type": "markdown",
   "id": "acf94f8c",
   "metadata": {},
   "source": [
    "# Análisis de importancia de variables"
   ]
  },
  {
   "cell_type": "code",
   "execution_count": 326,
   "id": "c7fb4c96",
   "metadata": {
    "ExecuteTime": {
     "end_time": "2022-11-09T17:55:06.262628Z",
     "start_time": "2022-11-09T17:55:06.248157Z"
    }
   },
   "outputs": [],
   "source": [
    "horno = 1\n",
    "data = data_H1.copy()"
   ]
  },
  {
   "cell_type": "code",
   "execution_count": 327,
   "id": "6227f1e3",
   "metadata": {
    "ExecuteTime": {
     "end_time": "2022-11-09T17:55:06.277798Z",
     "start_time": "2022-11-09T17:55:06.264622Z"
    },
    "scrolled": true
   },
   "outputs": [
    {
     "data": {
      "text/plain": [
       "TUNDISH_HEAT_COUNTER       0\n",
       "LADLE_LIFE                 0\n",
       "LADLE_TOTAL_WEIGHT_RS      0\n",
       "LADLE_EMPTY_TIME           0\n",
       "LADLE_FULL_TIME_CURRENT    0\n",
       "CASTING_TIME               0\n",
       "TRANSFER_TIME_RS_CCM       0\n",
       "t_liquidus                 0\n",
       "nom_grado                  0\n",
       "SH_promedio                0\n",
       "first_afino                0\n",
       "mean_temp_colada           0\n",
       "last_afino                 0\n",
       "dtype: int64"
      ]
     },
     "execution_count": 327,
     "metadata": {},
     "output_type": "execute_result"
    }
   ],
   "source": [
    "data.isna().sum()"
   ]
  },
  {
   "cell_type": "code",
   "execution_count": 328,
   "id": "54095316",
   "metadata": {
    "ExecuteTime": {
     "end_time": "2022-11-09T17:55:06.293798Z",
     "start_time": "2022-11-09T17:55:06.278797Z"
    }
   },
   "outputs": [],
   "source": [
    "data.dropna(inplace = True)"
   ]
  },
  {
   "cell_type": "code",
   "execution_count": 329,
   "id": "5b10dc4c",
   "metadata": {
    "ExecuteTime": {
     "end_time": "2022-11-09T17:55:06.309138Z",
     "start_time": "2022-11-09T17:55:06.295095Z"
    }
   },
   "outputs": [],
   "source": [
    "corr = data.corr()"
   ]
  },
  {
   "cell_type": "code",
   "execution_count": 330,
   "id": "698d935a",
   "metadata": {
    "ExecuteTime": {
     "end_time": "2022-11-09T17:55:06.807164Z",
     "start_time": "2022-11-09T17:55:06.310268Z"
    },
    "scrolled": true
   },
   "outputs": [
    {
     "data": {
      "image/png": "[encoded data removed]",
      "text/plain": [
       "<Figure size 1080x432 with 2 Axes>"
      ]
     },
     "metadata": {
      "needs_background": "light"
     },
     "output_type": "display_data"
    }
   ],
   "source": [
    "plt.figure(figsize=(15, 6))\n",
    "# define the mask to set the values in the upper triangle to True\n",
    "mask = np.triu(np.ones_like(corr, dtype=np.bool))\n",
    "heatmap = sns.heatmap(corr, mask=mask,vmin=-1, vmax=1,annot=True)\n",
    "heatmap.set_title('Correlación lineal', fontdict={'fontsize':18});"
   ]
  },
  {
   "cell_type": "code",
   "execution_count": 331,
   "id": "9efcfa0c",
   "metadata": {
    "ExecuteTime": {
     "end_time": "2022-11-09T17:55:06.837083Z",
     "start_time": "2022-11-09T17:55:06.808163Z"
    },
    "hide_input": true
   },
   "outputs": [],
   "source": [
    "class feature_importance_method:\n",
    "    def __init__(self, dataframe, tar=\"caida_temp\", prc_split = 0.33, thr = None, n_features = None):    \n",
    "        self.df = dataframe\n",
    "        self.tar = tar\n",
    "        self.prc = prc_split\n",
    "        self.thr = thr\n",
    "        self.n_features = n_features\n",
    "    \n",
    "    def TrainTest_split(self):\n",
    "        # Definir variables depedientes e independientes\n",
    "        self.X = self.df.drop(columns = self.tar)\n",
    "        self.y = self.df[self.tar]\n",
    "        \n",
    "        # Train Test Split\n",
    "        self.X_train, self.X_test, self.y_train, self.y_test = train_test_split(self.X, self.y,\n",
    "                                                            test_size = self.prc, \n",
    "                                                            random_state = 42)\n",
    "    \n",
    "    def Permutation_method(self):\n",
    "        self.TrainTest_split()\n",
    "        \n",
    "        # Crear instancia de Random Forest Regressor\n",
    "        reg = RandomForestRegressor(random_state=0)\n",
    "        # Fit a random forest regressor\n",
    "        reg.fit(self.X_train, self.y_train)\n",
    "        #Prediccion\n",
    "        y_pred = reg.predict(self.X_test)\n",
    "        self.y_pred = pd.DataFrame(y_pred, index = self.y_test.index)\n",
    "        \n",
    "        rmse_full_mod = mean_squared_error(self.y_pred, self.y_test, squared = False)\n",
    "        # Permutacion\n",
    "        results = []\n",
    "        # Iterar cada columna\n",
    "        for col in self.X_test.columns:\n",
    "            # Creamos una copia\n",
    "            X_test_copy = self.X_test.copy()\n",
    "\n",
    "            # Sufflear cada columna\n",
    "            X_test_copy[col] = self.X_test[col].sample(frac=1).values\n",
    "\n",
    "            # Calcular el RMSE\n",
    "            new_rmse = mean_squared_error(reg.predict(X_test_copy), self.y_test,\n",
    "                                          squared = False)\n",
    "\n",
    "            # Agregar a la lista de resultados\n",
    "            results.append({'pred': col,\n",
    "                            'score': new_rmse - rmse_full_mod })\n",
    "        # Convert to a pandas dataframe and rank the predictors by score\n",
    "        self.resultsdf = pd.DataFrame(results).sort_values(by = 'score',\n",
    "                                                      ascending = False)\n",
    "        self.reg = reg\n",
    "        print(\"Procedmimiento exitoso\")\n",
    "        \n",
    "    def Variance_method(self):\n",
    "        self.TrainTest_split()\n",
    "        \n",
    "        # Crear instancia de Random Forest Regressor y Selector\n",
    "        reg = RandomForestRegressor(random_state=0)\n",
    "        selector = VarianceThreshold(threshold= self.thr)\n",
    "        \n",
    "        X_train_varthr = selector.fit_transform(self.X_train)\n",
    "        X_test_varthr = selector.transform(self.X_test)\n",
    "        \n",
    "        reg.fit(X_train_varthr, self.y_train)\n",
    "        \n",
    "        #Predicción sobre test\n",
    "        y_pred = reg.predict(X_test_varthr)\n",
    "        self.y_pred = pd.DataFrame(y_pred, index = self.y_test.index)\n",
    "        self.selected_variables = list(self.X_train.columns[selector.get_support()])\n",
    "        self.reg = reg\n",
    "        print(\"Procedmimiento exitoso\")\n",
    "    \n",
    "    def RandomSelect_method(self):\n",
    "        self.TrainTest_split()\n",
    "        \n",
    "        # Crear instancia de Random Forest Regressor y Selector\n",
    "        reg = RandomForestRegressor(random_state=0)\n",
    "        \n",
    "        selector = RFE(reg, n_features_to_select = self.n_features, step=1)\n",
    "        selector = selector.fit(self.X_train, self.y_train)\n",
    "        \n",
    "        #Predicción sobre test\n",
    "        self.y_pred = selector.predict(self.X_test)\n",
    "#         self.y_pred = pd.DataFrame(y_pred, index = self.y_test.index)\n",
    "        self.selected_variables = list(self.X_train.columns[selector.get_support()])\n",
    "        \n",
    "        self.reg = selector\n",
    "        print(\"Procedmimiento exitoso\")"
   ]
  },
  {
   "cell_type": "code",
   "execution_count": 332,
   "id": "0cb03a36",
   "metadata": {
    "ExecuteTime": {
     "end_time": "2022-11-09T17:55:07.255587Z",
     "start_time": "2022-11-09T17:55:06.838083Z"
    },
    "scrolled": true
   },
   "outputs": [
    {
     "name": "stdout",
     "output_type": "stream",
     "text": [
      "Procedmimiento exitoso\n"
     ]
    }
   ],
   "source": [
    "## Permutación de características\n",
    "\n",
    "# Crear instancia de la clase para métodos de Feature importance\n",
    "FIM = feature_importance_method(data[variables + [tar]], tar = \"last_afino\")\n",
    "\n",
    "# Instanciar el método de Permutación de características\n",
    "FIM.Permutation_method()"
   ]
  },
  {
   "cell_type": "code",
   "execution_count": 333,
   "id": "3975aca9",
   "metadata": {
    "ExecuteTime": {
     "end_time": "2022-11-09T17:55:07.270498Z",
     "start_time": "2022-11-09T17:55:07.257214Z"
    }
   },
   "outputs": [
    {
     "data": {
      "text/html": [
       "<div>\n",
       "<style scoped>\n",
       "    .dataframe tbody tr th:only-of-type {\n",
       "        vertical-align: middle;\n",
       "    }\n",
       "\n",
       "    .dataframe tbody tr th {\n",
       "        vertical-align: top;\n",
       "    }\n",
       "\n",
       "    .dataframe thead th {\n",
       "        text-align: right;\n",
       "    }\n",
       "</style>\n",
       "<table border=\"1\" class=\"dataframe\">\n",
       "  <thead>\n",
       "    <tr style=\"text-align: right;\">\n",
       "      <th></th>\n",
       "      <th>pred</th>\n",
       "      <th>score</th>\n",
       "    </tr>\n",
       "  </thead>\n",
       "  <tbody>\n",
       "    <tr>\n",
       "      <th>0</th>\n",
       "      <td>mean_temp_colada</td>\n",
       "      <td>24.743357</td>\n",
       "    </tr>\n",
       "    <tr>\n",
       "      <th>1</th>\n",
       "      <td>t_liquidus</td>\n",
       "      <td>1.881070</td>\n",
       "    </tr>\n",
       "    <tr>\n",
       "      <th>2</th>\n",
       "      <td>CASTING_TIME</td>\n",
       "      <td>0.459108</td>\n",
       "    </tr>\n",
       "    <tr>\n",
       "      <th>3</th>\n",
       "      <td>TUNDISH_HEAT_COUNTER</td>\n",
       "      <td>0.221328</td>\n",
       "    </tr>\n",
       "    <tr>\n",
       "      <th>4</th>\n",
       "      <td>TRANSFER_TIME_RS_CCM</td>\n",
       "      <td>0.091849</td>\n",
       "    </tr>\n",
       "    <tr>\n",
       "      <th>5</th>\n",
       "      <td>LADLE_EMPTY_TIME</td>\n",
       "      <td>0.083106</td>\n",
       "    </tr>\n",
       "    <tr>\n",
       "      <th>6</th>\n",
       "      <td>LADLE_FULL_TIME_CURRENT</td>\n",
       "      <td>0.013453</td>\n",
       "    </tr>\n",
       "    <tr>\n",
       "      <th>7</th>\n",
       "      <td>LADLE_LIFE</td>\n",
       "      <td>-0.005218</td>\n",
       "    </tr>\n",
       "    <tr>\n",
       "      <th>8</th>\n",
       "      <td>LADLE_TOTAL_WEIGHT_RS</td>\n",
       "      <td>-0.022907</td>\n",
       "    </tr>\n",
       "    <tr>\n",
       "      <th>9</th>\n",
       "      <td>first_afino</td>\n",
       "      <td>-0.047097</td>\n",
       "    </tr>\n",
       "  </tbody>\n",
       "</table>\n",
       "</div>"
      ],
      "text/plain": [
       "                      pred      score\n",
       "0         mean_temp_colada  24.743357\n",
       "1               t_liquidus   1.881070\n",
       "2             CASTING_TIME   0.459108\n",
       "3     TUNDISH_HEAT_COUNTER   0.221328\n",
       "4     TRANSFER_TIME_RS_CCM   0.091849\n",
       "5         LADLE_EMPTY_TIME   0.083106\n",
       "6  LADLE_FULL_TIME_CURRENT   0.013453\n",
       "7               LADLE_LIFE  -0.005218\n",
       "8    LADLE_TOTAL_WEIGHT_RS  -0.022907\n",
       "9              first_afino  -0.047097"
      ]
     },
     "execution_count": 333,
     "metadata": {},
     "output_type": "execute_result"
    }
   ],
   "source": [
    "# Imprimir resultados del score\n",
    "FIM.resultsdf.head(30).reset_index(drop =True)"
   ]
  },
  {
   "cell_type": "code",
   "execution_count": 334,
   "id": "7699b599",
   "metadata": {
    "ExecuteTime": {
     "end_time": "2022-11-09T17:55:07.380076Z",
     "start_time": "2022-11-09T17:55:07.271623Z"
    }
   },
   "outputs": [
    {
     "data": {
      "text/plain": [
       "Text(0.5, 1.0, 'Set de prueba: Método Permutación')"
      ]
     },
     "execution_count": 334,
     "metadata": {},
     "output_type": "execute_result"
    },
    {
     "data": {
      "image/png": "[encoded data removed]",
      "text/plain": [
       "<Figure size 432x288 with 1 Axes>"
      ]
     },
     "metadata": {
      "needs_background": "light"
     },
     "output_type": "display_data"
    }
   ],
   "source": [
    "# Graficar los resultados de test y predict\n",
    "plt.scatter(FIM.y_test, FIM.y_pred)\n",
    "plt.xlabel(\"y_real\")\n",
    "plt.ylabel(\"y_pred\")\n",
    "plt.title(\"Set de prueba: Método Permutación\")"
   ]
  },
  {
   "cell_type": "markdown",
   "id": "b148d595",
   "metadata": {},
   "source": [
    "# Train-Test split"
   ]
  },
  {
   "cell_type": "code",
   "execution_count": 335,
   "id": "7094c025",
   "metadata": {
    "ExecuteTime": {
     "end_time": "2022-11-09T17:55:07.395591Z",
     "start_time": "2022-11-09T17:55:07.383543Z"
    }
   },
   "outputs": [],
   "source": [
    "# Definir variables depedientes e independientes\n",
    "\n",
    "X = data[variables]\n",
    "y = data[tar]\n",
    "\n",
    "# Train Test Split\n",
    "X_train, X_test, y_train, y_test = train_test_split(X, y,\n",
    "                                                    test_size = 0.33, \n",
    "                                                    random_state = 42)"
   ]
  },
  {
   "cell_type": "markdown",
   "id": "9cad9ba7",
   "metadata": {},
   "source": [
    "# Pruebas Modelo"
   ]
  },
  {
   "cell_type": "code",
   "execution_count": 336,
   "id": "03baa2fc",
   "metadata": {
    "ExecuteTime": {
     "end_time": "2022-11-09T17:55:07.410882Z",
     "start_time": "2022-11-09T17:55:07.398158Z"
    }
   },
   "outputs": [],
   "source": [
    "# Definir Pipeline para escalamiento y modelo\n",
    "\n",
    "parameters = {'depth': [4,5,6,7,8],\n",
    "                 'learning_rate' : [0.01,0.05,0.02,0.3, 0.5],\n",
    "                  'iterations': [300,400,500]\n",
    "                 }\n",
    "\n",
    "RFparameters = {'max_depth': [4,5,6,7,8],\n",
    "                'learning_rate' : [0.01,0.05,0.02,0.3, 0.5],\n",
    "                'n_estimators': [300,400,500]\n",
    "               }\n",
    "\n",
    "GBFparameters = {\n",
    "    \"n_estimators\": [300,400,500],\n",
    "    \"max_depth\": [4,5,6,7,8],\n",
    "    \"learning_rate\": [0.01,0.05,0.02,0.3, 0.5]\n",
    "}\n",
    "\n",
    "\n",
    "models_dict = {\"LinealSimple\" : LinearRegression(),\n",
    "               \"LRidge\" : RidgeCV(alphas=[1e-3, 1e-2, 1e-1, 1]),\n",
    "               \"GradientBR\": RandomizedSearchCV(GradientBoostingRegressor(random_state = 0), \n",
    "                                                   param_distributions = GBFparameters, cv = 5, n_iter = 20, random_state = 0),\n",
    "               \n",
    "               \n",
    "               \"catboost\": CatBoostRegressor(silent = True, random_state = 0),\n",
    "               \"RGridCatboost\": RandomizedSearchCV(CatBoostRegressor(silent = True, random_state = 0), \n",
    "                                                   param_distributions = parameters, scoring = [\"explained_variance\", \"r2\", \"neg_mean_absolute_percentage_error\", \"neg_mean_absolute_error\"],\n",
    "                                                   refit = \"neg_mean_absolute_percentage_error\", cv = 5, n_iter = 30, random_state = 0),\n",
    "               \"RGridForest\": RandomForestRegressor(n_estimators=300,max_depth=7,random_state = 0)\n",
    "              }\n",
    "\n",
    "scaler_dict = {\"Quantile\": QuantileTransformer(n_quantiles=3, random_state=42), \n",
    "               \"Sscaler\": StandardScaler(),\n",
    "               \"MinMax\": MinMaxScaler(),\n",
    "               \"None\": None\n",
    "              }"
   ]
  },
  {
   "cell_type": "markdown",
   "id": "da2d19ac",
   "metadata": {},
   "source": [
    "## Iteraciones de algoritmos"
   ]
  },
  {
   "cell_type": "code",
   "execution_count": 337,
   "id": "b3fa69a9",
   "metadata": {
    "ExecuteTime": {
     "end_time": "2022-11-09T17:55:07.426836Z",
     "start_time": "2022-11-09T17:55:07.412892Z"
    }
   },
   "outputs": [],
   "source": [
    "# def metricas(yreal, ypred, umbral = 5):    \n",
    "#     # Cálculos\n",
    "#     residuals = yreal - ypred # Error\n",
    "#     std = np.std(residuals) #Desviación estándar\n",
    "#     mae = mean_squared_error(yreal, ypred)\n",
    "#     abserror = abs(residuals)\n",
    "#     prc = 100*(abserror < umbral).sum()/len(abserror)\n",
    "#     print(\"Testing: Error promedio = %.2f\" % np.average(residuals))\n",
    "#     print(\"Testing: Desviación estándar del error = %.2f\" % std)\n",
    "#     print(\"Testing: MSE = %.2f\" % mae)\n",
    "#     print(\"Porcentaje de coladas con un error <= %u °C: %.2f\" %(umbral, prc))\n",
    "    \n",
    "def metricas(yreal, ypred, umbral = 5): \n",
    "    # Cálculos\n",
    "    residuals = yreal - ypred # Error\n",
    "    std = np.std(residuals) #Desviación estándar\n",
    "    mae = mean_squared_error(yreal, ypred)\n",
    "    abserror = abs(residuals)\n",
    "    prc = 100*(abserror < umbral).sum()/len(abserror)\n",
    "    \n",
    "    df = pd.DataFrame({\"Error promedio\": np.average(residuals),\n",
    "                        \"std\": std,\n",
    "                        \"MAE\": mae,\n",
    "                        f\"% Error <{umbral}\": prc}, index = [0]\n",
    "                     )\n",
    "    \n",
    "    return df"
   ]
  },
  {
   "cell_type": "code",
   "execution_count": 338,
   "id": "527e65cd",
   "metadata": {
    "ExecuteTime": {
     "end_time": "2022-11-09T17:55:07.442428Z",
     "start_time": "2022-11-09T17:55:07.428390Z"
    },
    "scrolled": true
   },
   "outputs": [],
   "source": [
    "# df_metricas = pd.DataFrame()\n",
    "# for key_model in [\"LRidge\", \"LinealSimple\", \"catboost\", \"RGridCatboost\", \"RGridForest\", \"GradientBR\"]:\n",
    "#     for key_scale in [\"Quantile\", \"MinMax\"]:\n",
    "#         pipe = Pipeline([('scaler', scaler_dict[key_scale]),\n",
    "#                         (\"model\", models_dict[key_model])])\n",
    "\n",
    "#         # Entrenamiento\n",
    "#         pipe.fit(X_train, y_train)\n",
    "\n",
    "#         # Vector de predicciones\n",
    "#         y_pred = pipe.predict(X_test)\n",
    "\n",
    "    \n",
    "#         df = metricas(y_test, y_pred)\n",
    "#         df = (df.assign(Scale = key_scale)).assign(Modelo = key_model)\n",
    "#         df_metricas = df_metricas.append(df)\n",
    "#     print(f\"{key_model} Listo......\")"
   ]
  },
  {
   "cell_type": "code",
   "execution_count": 339,
   "id": "1b87e56d",
   "metadata": {
    "ExecuteTime": {
     "end_time": "2022-11-09T17:55:07.458301Z",
     "start_time": "2022-11-09T17:55:07.443430Z"
    },
    "scrolled": true
   },
   "outputs": [],
   "source": [
    "# df_metricas"
   ]
  },
  {
   "cell_type": "code",
   "execution_count": 340,
   "id": "cda14784",
   "metadata": {
    "ExecuteTime": {
     "end_time": "2022-11-09T17:55:07.473878Z",
     "start_time": "2022-11-09T17:55:07.459366Z"
    }
   },
   "outputs": [
    {
     "data": {
      "text/plain": [
       "1"
      ]
     },
     "execution_count": 340,
     "metadata": {},
     "output_type": "execute_result"
    }
   ],
   "source": [
    "horno"
   ]
  },
  {
   "cell_type": "code",
   "execution_count": 341,
   "id": "4b2dbc41",
   "metadata": {
    "ExecuteTime": {
     "end_time": "2022-11-09T17:55:07.489486Z",
     "start_time": "2022-11-09T17:55:07.474843Z"
    },
    "scrolled": true
   },
   "outputs": [],
   "source": [
    "# # Guardar resultados de las iteraciones para seleccionar el mejor\n",
    "# df_metricas.to_csv(f\"../../docs/15. Sprint Resultados/Metricas_horno{horno}.csv\")"
   ]
  },
  {
   "cell_type": "code",
   "execution_count": 342,
   "id": "59ded774",
   "metadata": {
    "ExecuteTime": {
     "end_time": "2022-11-09T17:55:07.504626Z",
     "start_time": "2022-11-09T17:55:07.490449Z"
    }
   },
   "outputs": [],
   "source": [
    "# # Modelo elegido\n",
    "\n",
    "# key_model = \"RGridCatboost\"\n",
    "# key_scale =  \"MinMax\"\n",
    "# pipe = Pipeline([('scaler', scaler_dict[key_scale]),\n",
    "#                 (\"model\", models_dict[key_model])])\n",
    "\n",
    "# # Entrenamiento\n",
    "# pipe.fit(X_train, y_train)\n",
    "\n",
    "# # Vector de predicciones\n",
    "# y_pred = pipe.predict(X_test)\n",
    "\n",
    "# print(f\"{key_model} Listo......\")"
   ]
  },
  {
   "cell_type": "code",
   "execution_count": 343,
   "id": "c7c4d010",
   "metadata": {
    "ExecuteTime": {
     "end_time": "2022-11-09T17:55:07.520384Z",
     "start_time": "2022-11-09T17:55:07.505591Z"
    }
   },
   "outputs": [],
   "source": [
    "# ## Guardar modelo como pickle\n",
    "\n",
    "# import pickle \n",
    "\n",
    "# version = \"v.0\"\n",
    "\n",
    "# with open(f\"../../pickles/Prediccion_HA/Temperatura_salida_HA{horno}_{version}.pickle\", \"wb\") as file:\n",
    "#     pickle.dump(pipe, file)"
   ]
  },
  {
   "cell_type": "markdown",
   "id": "0a33981a",
   "metadata": {},
   "source": [
    "# Cargar modelo entrenado"
   ]
  },
  {
   "cell_type": "code",
   "execution_count": 373,
   "id": "95edcf8a",
   "metadata": {
    "ExecuteTime": {
     "end_time": "2022-11-09T17:57:52.342598Z",
     "start_time": "2022-11-09T17:57:52.332626Z"
    }
   },
   "outputs": [],
   "source": [
    "# Abrir modelo\n",
    "horno = 2\n",
    "version = \"v.0\"\n",
    "with open(f\"../../pickles/Prediccion_HA/Temperatura_salida_HA{horno}_{version}.pickle\", \"rb\") as file:\n",
    "    model = pickle.load(file)"
   ]
  },
  {
   "cell_type": "code",
   "execution_count": 374,
   "id": "a3c84001",
   "metadata": {
    "ExecuteTime": {
     "end_time": "2022-11-09T17:57:53.184255Z",
     "start_time": "2022-11-09T17:57:53.169294Z"
    }
   },
   "outputs": [
    {
     "name": "stdout",
     "output_type": "stream",
     "text": [
      "X_train: (2894, 10), X_test: (1426, 10)\n"
     ]
    }
   ],
   "source": [
    "# Elegir dataset de horno\n",
    "data = data_H2.copy()\n",
    "\n",
    "# Definir variables depedientes e independientes\n",
    "X = data[variables]\n",
    "y = data[tar]\n",
    "\n",
    "# Train Test Split\n",
    "X_train, X_test, y_train, y_test = train_test_split(X, y,\n",
    "                                                    test_size = 0.33, \n",
    "                                                    random_state = 42)\n",
    "\n",
    "print(f\"X_train: {X_train.shape}, X_test: {X_test.shape}\")"
   ]
  },
  {
   "cell_type": "code",
   "execution_count": 375,
   "id": "c902ab24",
   "metadata": {
    "ExecuteTime": {
     "end_time": "2022-11-09T17:57:54.137541Z",
     "start_time": "2022-11-09T17:57:54.109663Z"
    }
   },
   "outputs": [
    {
     "name": "stdout",
     "output_type": "stream",
     "text": [
      "Prediction size: 1426\n"
     ]
    }
   ],
   "source": [
    "# Predicción\n",
    "y_pred = model.predict(X_test)\n",
    "print(f\"Prediction size: {len(y_pred)}\")"
   ]
  },
  {
   "cell_type": "code",
   "execution_count": 376,
   "id": "28617244",
   "metadata": {
    "ExecuteTime": {
     "end_time": "2022-11-09T17:57:55.746391Z",
     "start_time": "2022-11-09T17:57:55.597429Z"
    }
   },
   "outputs": [
    {
     "data": {
      "text/html": [
       "<div>\n",
       "<style scoped>\n",
       "    .dataframe tbody tr th:only-of-type {\n",
       "        vertical-align: middle;\n",
       "    }\n",
       "\n",
       "    .dataframe tbody tr th {\n",
       "        vertical-align: top;\n",
       "    }\n",
       "\n",
       "    .dataframe thead th {\n",
       "        text-align: right;\n",
       "    }\n",
       "</style>\n",
       "<table border=\"1\" class=\"dataframe\">\n",
       "  <thead>\n",
       "    <tr style=\"text-align: right;\">\n",
       "      <th></th>\n",
       "      <th>cla_colada</th>\n",
       "      <th>fecha_administrativa</th>\n",
       "      <th>cla_horno</th>\n",
       "      <th>num_tratamiento</th>\n",
       "      <th>hay_distri</th>\n",
       "      <th>hay_empalme</th>\n",
       "      <th>cla_distribuidor</th>\n",
       "      <th>tons_pq_buena</th>\n",
       "      <th>fhr_ini</th>\n",
       "      <th>fhr_fin</th>\n",
       "      <th>...</th>\n",
       "      <th>lquim_f5</th>\n",
       "      <th>fecha_inicio_vaciado</th>\n",
       "      <th>fecha_fin_vaciado</th>\n",
       "      <th>min_duracion_vaciado</th>\n",
       "      <th>tiempo_contacto</th>\n",
       "      <th>Temp_SHeat</th>\n",
       "      <th>Temp_SHeat_Min</th>\n",
       "      <th>Temp_SHeat_Max</th>\n",
       "      <th>tipo_colada</th>\n",
       "      <th>t_liquidus</th>\n",
       "    </tr>\n",
       "  </thead>\n",
       "  <tbody>\n",
       "    <tr>\n",
       "      <th>0</th>\n",
       "      <td>123200</td>\n",
       "      <td>2021-03-30 00:00:00</td>\n",
       "      <td>3</td>\n",
       "      <td>1.0</td>\n",
       "      <td>0.0</td>\n",
       "      <td>1.0</td>\n",
       "      <td>26.0</td>\n",
       "      <td>100.78518</td>\n",
       "      <td>2021-03-29 19:36:33</td>\n",
       "      <td>2021-03-29 20:32:48</td>\n",
       "      <td>...</td>\n",
       "      <td>0.0</td>\n",
       "      <td>NaN</td>\n",
       "      <td>NaN</td>\n",
       "      <td>NaN</td>\n",
       "      <td>NaN</td>\n",
       "      <td>NaN</td>\n",
       "      <td>NaN</td>\n",
       "      <td>NaN</td>\n",
       "      <td>secuencia</td>\n",
       "      <td>1503.92396</td>\n",
       "    </tr>\n",
       "  </tbody>\n",
       "</table>\n",
       "<p>1 rows × 50 columns</p>\n",
       "</div>"
      ],
      "text/plain": [
       "   cla_colada fecha_administrativa  cla_horno  num_tratamiento  hay_distri  \\\n",
       "0      123200  2021-03-30 00:00:00          3              1.0         0.0   \n",
       "\n",
       "   hay_empalme  cla_distribuidor  tons_pq_buena              fhr_ini  \\\n",
       "0          1.0              26.0      100.78518  2021-03-29 19:36:33   \n",
       "\n",
       "               fhr_fin  ... lquim_f5 fecha_inicio_vaciado fecha_fin_vaciado  \\\n",
       "0  2021-03-29 20:32:48  ...      0.0                  NaN               NaN   \n",
       "\n",
       "  min_duracion_vaciado tiempo_contacto  Temp_SHeat  Temp_SHeat_Min  \\\n",
       "0                  NaN             NaN         NaN             NaN   \n",
       "\n",
       "   Temp_SHeat_Max  tipo_colada  t_liquidus  \n",
       "0             NaN    secuencia  1503.92396  \n",
       "\n",
       "[1 rows x 50 columns]"
      ]
     },
     "execution_count": 376,
     "metadata": {},
     "output_type": "execute_result"
    }
   ],
   "source": [
    "# Cargar dataset de totales completo sin filtrar\n",
    "data_RW = pd.read_csv(\"data/CT_totales.csv\")\n",
    "data_RW.head(1)"
   ]
  },
  {
   "cell_type": "code",
   "execution_count": 377,
   "id": "50942157",
   "metadata": {
    "ExecuteTime": {
     "end_time": "2022-11-09T17:57:56.542684Z",
     "start_time": "2022-11-09T17:57:56.515843Z"
    },
    "scrolled": true
   },
   "outputs": [
    {
     "data": {
      "text/html": [
       "<div>\n",
       "<style scoped>\n",
       "    .dataframe tbody tr th:only-of-type {\n",
       "        vertical-align: middle;\n",
       "    }\n",
       "\n",
       "    .dataframe tbody tr th {\n",
       "        vertical-align: top;\n",
       "    }\n",
       "\n",
       "    .dataframe thead th {\n",
       "        text-align: right;\n",
       "    }\n",
       "</style>\n",
       "<table border=\"1\" class=\"dataframe\">\n",
       "  <thead>\n",
       "    <tr style=\"text-align: right;\">\n",
       "      <th></th>\n",
       "      <th>name</th>\n",
       "      <th>imp</th>\n",
       "    </tr>\n",
       "  </thead>\n",
       "  <tbody>\n",
       "    <tr>\n",
       "      <th>8</th>\n",
       "      <td>first_afino</td>\n",
       "      <td>1.690827</td>\n",
       "    </tr>\n",
       "    <tr>\n",
       "      <th>2</th>\n",
       "      <td>LADLE_TOTAL_WEIGHT_RS</td>\n",
       "      <td>2.124624</td>\n",
       "    </tr>\n",
       "  </tbody>\n",
       "</table>\n",
       "</div>"
      ],
      "text/plain": [
       "                    name       imp\n",
       "8            first_afino  1.690827\n",
       "2  LADLE_TOTAL_WEIGHT_RS  2.124624"
      ]
     },
     "execution_count": 377,
     "metadata": {},
     "output_type": "execute_result"
    }
   ],
   "source": [
    "# Crear tabla de importancia de variables\n",
    "if horno == 1:\n",
    "    # Horno1\n",
    "    dfImp = pd.DataFrame({\"name\": X_train.columns,\n",
    "    \"imp\":  model.named_steps[\"model\"].coef_})\n",
    "else:\n",
    "    dfImp = pd.DataFrame({\"name\": X_train.columns,\n",
    "    \"imp\": model.named_steps[\"model\"].best_estimator_.feature_importances_})\n",
    "\n",
    "dfImp = dfImp.sort_values(\"imp\", ascending = True)\n",
    "dfImp.head(2)"
   ]
  },
  {
   "cell_type": "code",
   "execution_count": 378,
   "id": "53b076e8",
   "metadata": {
    "ExecuteTime": {
     "end_time": "2022-11-09T17:57:58.346250Z",
     "start_time": "2022-11-09T17:57:58.217144Z"
    },
    "scrolled": false
   },
   "outputs": [
    {
     "data": {
      "image/png": "[encoded data removed]",
      "text/plain": [
       "<Figure size 360x360 with 1 Axes>"
      ]
     },
     "metadata": {
      "needs_background": "light"
     },
     "output_type": "display_data"
    }
   ],
   "source": [
    "# Gráfica de importancia de variables\n",
    "\n",
    "dfImp.set_index(\"name\").plot.barh(figsize = (5,5))\n",
    "plt.ylabel(\"\")\n",
    "plt.title(f\"Horno{horno} - Índice de importancia\", fontsize=14, fontweight = \"bold\")\n",
    "plt.yticks(fontsize=14)\n",
    "plt.show()"
   ]
  },
  {
   "cell_type": "code",
   "execution_count": 379,
   "id": "8ae23221",
   "metadata": {
    "ExecuteTime": {
     "end_time": "2022-11-09T17:57:59.572150Z",
     "start_time": "2022-11-09T17:57:59.117699Z"
    },
    "scrolled": false
   },
   "outputs": [
    {
     "name": "stdout",
     "output_type": "stream",
     "text": [
      "Testing: Error promedio = 0.15\n",
      "Testing: Desviación estándar del error = 5.25\n",
      "Testing: MSE = 27.55\n",
      "Porcentaje de coladas con un error <= 5 °C: 79.45\n"
     ]
    },
    {
     "data": {
      "image/png": "[encoded data removed]",
      "text/plain": [
       "<Figure size 1296x360 with 3 Axes>"
      ]
     },
     "metadata": {
      "needs_background": "light"
     },
     "output_type": "display_data"
    }
   ],
   "source": [
    "# Principales Gráficas de resultados \n",
    "key_model = f\"Modelo horno {horno}\"\n",
    "results = GraficasResultados(y_test.values, y_pred, key_model, umbral=5, size=(5,5))\n",
    "\n",
    "results.diagnostic_plots()"
   ]
  },
  {
   "cell_type": "markdown",
   "id": "c2841f0e",
   "metadata": {},
   "source": [
    "# Simulación - Error de modelo"
   ]
  },
  {
   "cell_type": "code",
   "execution_count": 380,
   "id": "421b1388",
   "metadata": {
    "ExecuteTime": {
     "end_time": "2022-11-09T17:58:05.077069Z",
     "start_time": "2022-11-09T17:58:05.045578Z"
    }
   },
   "outputs": [
    {
     "data": {
      "text/html": [
       "<div>\n",
       "<style scoped>\n",
       "    .dataframe tbody tr th:only-of-type {\n",
       "        vertical-align: middle;\n",
       "    }\n",
       "\n",
       "    .dataframe tbody tr th {\n",
       "        vertical-align: top;\n",
       "    }\n",
       "\n",
       "    .dataframe thead th {\n",
       "        text-align: right;\n",
       "    }\n",
       "</style>\n",
       "<table border=\"1\" class=\"dataframe\">\n",
       "  <thead>\n",
       "    <tr style=\"text-align: right;\">\n",
       "      <th></th>\n",
       "      <th>TUNDISH_HEAT_COUNTER</th>\n",
       "      <th>LADLE_LIFE</th>\n",
       "      <th>LADLE_TOTAL_WEIGHT_RS</th>\n",
       "      <th>LADLE_EMPTY_TIME</th>\n",
       "      <th>LADLE_FULL_TIME_CURRENT</th>\n",
       "      <th>CASTING_TIME</th>\n",
       "      <th>TRANSFER_TIME_RS_CCM</th>\n",
       "      <th>t_liquidus</th>\n",
       "      <th>nom_grado</th>\n",
       "      <th>SH_promedio</th>\n",
       "      <th>first_afino</th>\n",
       "      <th>mean_temp_colada</th>\n",
       "      <th>last_afino</th>\n",
       "    </tr>\n",
       "    <tr>\n",
       "      <th>cla_colada</th>\n",
       "      <th></th>\n",
       "      <th></th>\n",
       "      <th></th>\n",
       "      <th></th>\n",
       "      <th></th>\n",
       "      <th></th>\n",
       "      <th></th>\n",
       "      <th></th>\n",
       "      <th></th>\n",
       "      <th></th>\n",
       "      <th></th>\n",
       "      <th></th>\n",
       "      <th></th>\n",
       "    </tr>\n",
       "  </thead>\n",
       "  <tbody>\n",
       "    <tr>\n",
       "      <th>125224</th>\n",
       "      <td>26</td>\n",
       "      <td>50.0</td>\n",
       "      <td>151.17777</td>\n",
       "      <td>97.550000</td>\n",
       "      <td>23.866667</td>\n",
       "      <td>54.0</td>\n",
       "      <td>9.566633</td>\n",
       "      <td>1524.17945</td>\n",
       "      <td>1008 BCO</td>\n",
       "      <td>28.82055</td>\n",
       "      <td>1532</td>\n",
       "      <td>1553.0</td>\n",
       "      <td>1593</td>\n",
       "    </tr>\n",
       "    <tr>\n",
       "      <th>125225</th>\n",
       "      <td>27</td>\n",
       "      <td>23.0</td>\n",
       "      <td>115.60653</td>\n",
       "      <td>90.266667</td>\n",
       "      <td>18.216667</td>\n",
       "      <td>53.0</td>\n",
       "      <td>13.666667</td>\n",
       "      <td>1526.28432</td>\n",
       "      <td>1006 VDE CEL</td>\n",
       "      <td>29.71568</td>\n",
       "      <td>1597</td>\n",
       "      <td>1556.0</td>\n",
       "      <td>1595</td>\n",
       "    </tr>\n",
       "    <tr>\n",
       "      <th>125226</th>\n",
       "      <td>28</td>\n",
       "      <td>93.0</td>\n",
       "      <td>127.46361</td>\n",
       "      <td>72.866667</td>\n",
       "      <td>22.416667</td>\n",
       "      <td>46.0</td>\n",
       "      <td>13.499967</td>\n",
       "      <td>1526.70591</td>\n",
       "      <td>1006 VDE CEL</td>\n",
       "      <td>30.29409</td>\n",
       "      <td>1567</td>\n",
       "      <td>1557.0</td>\n",
       "      <td>1599</td>\n",
       "    </tr>\n",
       "  </tbody>\n",
       "</table>\n",
       "</div>"
      ],
      "text/plain": [
       "            TUNDISH_HEAT_COUNTER  LADLE_LIFE  LADLE_TOTAL_WEIGHT_RS  \\\n",
       "cla_colada                                                            \n",
       "125224                        26        50.0              151.17777   \n",
       "125225                        27        23.0              115.60653   \n",
       "125226                        28        93.0              127.46361   \n",
       "\n",
       "            LADLE_EMPTY_TIME  LADLE_FULL_TIME_CURRENT  CASTING_TIME  \\\n",
       "cla_colada                                                            \n",
       "125224             97.550000                23.866667          54.0   \n",
       "125225             90.266667                18.216667          53.0   \n",
       "125226             72.866667                22.416667          46.0   \n",
       "\n",
       "            TRANSFER_TIME_RS_CCM  t_liquidus     nom_grado  SH_promedio  \\\n",
       "cla_colada                                                                \n",
       "125224                  9.566633  1524.17945      1008 BCO     28.82055   \n",
       "125225                 13.666667  1526.28432  1006 VDE CEL     29.71568   \n",
       "125226                 13.499967  1526.70591  1006 VDE CEL     30.29409   \n",
       "\n",
       "            first_afino  mean_temp_colada  last_afino  \n",
       "cla_colada                                             \n",
       "125224             1532            1553.0        1593  \n",
       "125225             1597            1556.0        1595  \n",
       "125226             1567            1557.0        1599  "
      ]
     },
     "execution_count": 380,
     "metadata": {},
     "output_type": "execute_result"
    }
   ],
   "source": [
    "# Abrir modelo\n",
    "horno = 2\n",
    "version = \"v.0\"\n",
    "with open(f\"../../pickles/Prediccion_HA/Temperatura_salida_HA{horno}_{version}.pickle\", \"rb\") as file:\n",
    "    model_simulacion = pickle.load(file)\n",
    "# Elegir dataset\n",
    "data = data_H2.copy()\n",
    "data.head(3)"
   ]
  },
  {
   "cell_type": "code",
   "execution_count": 381,
   "id": "59b92768",
   "metadata": {
    "ExecuteTime": {
     "end_time": "2022-11-09T17:58:14.754611Z",
     "start_time": "2022-11-09T17:58:14.735630Z"
    },
    "scrolled": true
   },
   "outputs": [
    {
     "name": "stdout",
     "output_type": "stream",
     "text": [
      "X_train: (2894, 10), X_test: (1426, 10)\n",
      "\n",
      "Prediction size: 1426\n"
     ]
    }
   ],
   "source": [
    "# Definir variables depedientes e independientes\n",
    "\n",
    "X = data[variables]\n",
    "y = data[tar]\n",
    "\n",
    "# Train Test Split\n",
    "X_train, X_test, y_train, y_test = train_test_split(X, y,\n",
    "                                                    test_size = 0.33, \n",
    "                                                    random_state = 42)\n",
    "print(f\"X_train: {X_train.shape}, X_test: {X_test.shape}\")\n",
    "\n",
    "# Predicción\n",
    "y_pred = model_simulacion.predict(X_test)\n",
    "print(f\"\\nPrediction size: {len(y_pred)}\")"
   ]
  },
  {
   "cell_type": "code",
   "execution_count": 382,
   "id": "8befe366",
   "metadata": {
    "ExecuteTime": {
     "end_time": "2022-11-09T17:58:17.456239Z",
     "start_time": "2022-11-09T17:58:17.383284Z"
    }
   },
   "outputs": [],
   "source": [
    "# Cargar datos de superheat real para comparar\n",
    "df_temp = pd.read_csv(\"data/CT_caida_temp.csv\")"
   ]
  },
  {
   "cell_type": "code",
   "execution_count": 383,
   "id": "082469a6",
   "metadata": {
    "ExecuteTime": {
     "end_time": "2022-11-09T17:58:18.763553Z",
     "start_time": "2022-11-09T17:58:18.743604Z"
    },
    "scrolled": true
   },
   "outputs": [
    {
     "data": {
      "text/html": [
       "<div>\n",
       "<style scoped>\n",
       "    .dataframe tbody tr th:only-of-type {\n",
       "        vertical-align: middle;\n",
       "    }\n",
       "\n",
       "    .dataframe tbody tr th {\n",
       "        vertical-align: top;\n",
       "    }\n",
       "\n",
       "    .dataframe thead th {\n",
       "        text-align: right;\n",
       "    }\n",
       "</style>\n",
       "<table border=\"1\" class=\"dataframe\">\n",
       "  <thead>\n",
       "    <tr style=\"text-align: right;\">\n",
       "      <th></th>\n",
       "      <th>cla_colada</th>\n",
       "      <th>first_afino</th>\n",
       "      <th>fhr_muestra_first_afino</th>\n",
       "      <th>last_afino</th>\n",
       "      <th>fhr_muestra_last_afino</th>\n",
       "      <th>first_colada</th>\n",
       "      <th>fhr_muestra_first_mcc</th>\n",
       "      <th>last_colada</th>\n",
       "      <th>fhr_muestra_last_mcc</th>\n",
       "      <th>mean_temp_colada</th>\n",
       "      <th>std_temp_colada</th>\n",
       "      <th>max_colada</th>\n",
       "      <th>min_colada</th>\n",
       "      <th>SH_promedio</th>\n",
       "      <th>SH_std</th>\n",
       "      <th>SH_min</th>\n",
       "      <th>SH_max</th>\n",
       "      <th>cla_horno</th>\n",
       "    </tr>\n",
       "  </thead>\n",
       "  <tbody>\n",
       "    <tr>\n",
       "      <th>0</th>\n",
       "      <td>123200</td>\n",
       "      <td>1550</td>\n",
       "      <td>2021-03-29 20:48:27</td>\n",
       "      <td>1568</td>\n",
       "      <td>2021-03-29 20:56:01</td>\n",
       "      <td>1521</td>\n",
       "      <td>2021-03-29 21:16:31</td>\n",
       "      <td>1530</td>\n",
       "      <td>2021-03-29 21:50:56</td>\n",
       "      <td>1526.714286</td>\n",
       "      <td>3.251373</td>\n",
       "      <td>1530</td>\n",
       "      <td>1521</td>\n",
       "      <td>22.790326</td>\n",
       "      <td>3.251373</td>\n",
       "      <td>17.07604</td>\n",
       "      <td>26.07604</td>\n",
       "      <td>3</td>\n",
       "    </tr>\n",
       "    <tr>\n",
       "      <th>1</th>\n",
       "      <td>123201</td>\n",
       "      <td>1557</td>\n",
       "      <td>2021-03-29 21:38:01</td>\n",
       "      <td>1574</td>\n",
       "      <td>2021-03-29 21:48:55</td>\n",
       "      <td>1534</td>\n",
       "      <td>2021-03-29 22:02:43</td>\n",
       "      <td>1525</td>\n",
       "      <td>2021-03-29 22:44:08</td>\n",
       "      <td>1526.800000</td>\n",
       "      <td>4.266146</td>\n",
       "      <td>1534</td>\n",
       "      <td>1523</td>\n",
       "      <td>17.968430</td>\n",
       "      <td>4.266146</td>\n",
       "      <td>14.16843</td>\n",
       "      <td>25.16843</td>\n",
       "      <td>3</td>\n",
       "    </tr>\n",
       "    <tr>\n",
       "      <th>2</th>\n",
       "      <td>123202</td>\n",
       "      <td>1534</td>\n",
       "      <td>2021-03-29 22:24:10</td>\n",
       "      <td>1581</td>\n",
       "      <td>2021-03-29 22:40:59</td>\n",
       "      <td>1533</td>\n",
       "      <td>2021-03-29 22:57:12</td>\n",
       "      <td>1530</td>\n",
       "      <td>2021-03-29 23:45:12</td>\n",
       "      <td>1534.333333</td>\n",
       "      <td>5.131601</td>\n",
       "      <td>1540</td>\n",
       "      <td>1530</td>\n",
       "      <td>31.382013</td>\n",
       "      <td>5.131601</td>\n",
       "      <td>27.04868</td>\n",
       "      <td>37.04868</td>\n",
       "      <td>3</td>\n",
       "    </tr>\n",
       "    <tr>\n",
       "      <th>3</th>\n",
       "      <td>123203</td>\n",
       "      <td>1555</td>\n",
       "      <td>2021-03-29 23:05:31</td>\n",
       "      <td>1574</td>\n",
       "      <td>2021-03-29 23:33:38</td>\n",
       "      <td>1534</td>\n",
       "      <td>2021-03-29 23:55:11</td>\n",
       "      <td>1538</td>\n",
       "      <td>2021-03-30 00:20:33</td>\n",
       "      <td>1536.000000</td>\n",
       "      <td>2.828427</td>\n",
       "      <td>1538</td>\n",
       "      <td>1534</td>\n",
       "      <td>32.557170</td>\n",
       "      <td>2.828427</td>\n",
       "      <td>30.55717</td>\n",
       "      <td>34.55717</td>\n",
       "      <td>3</td>\n",
       "    </tr>\n",
       "    <tr>\n",
       "      <th>4</th>\n",
       "      <td>123204</td>\n",
       "      <td>1526</td>\n",
       "      <td>2021-03-29 23:58:22</td>\n",
       "      <td>1577</td>\n",
       "      <td>2021-03-30 00:24:50</td>\n",
       "      <td>1535</td>\n",
       "      <td>2021-03-30 00:45:59</td>\n",
       "      <td>1529</td>\n",
       "      <td>2021-03-30 01:12:35</td>\n",
       "      <td>1532.000000</td>\n",
       "      <td>4.242641</td>\n",
       "      <td>1535</td>\n",
       "      <td>1529</td>\n",
       "      <td>28.231830</td>\n",
       "      <td>4.242641</td>\n",
       "      <td>25.23183</td>\n",
       "      <td>31.23183</td>\n",
       "      <td>3</td>\n",
       "    </tr>\n",
       "  </tbody>\n",
       "</table>\n",
       "</div>"
      ],
      "text/plain": [
       "   cla_colada  first_afino fhr_muestra_first_afino  last_afino  \\\n",
       "0      123200         1550     2021-03-29 20:48:27        1568   \n",
       "1      123201         1557     2021-03-29 21:38:01        1574   \n",
       "2      123202         1534     2021-03-29 22:24:10        1581   \n",
       "3      123203         1555     2021-03-29 23:05:31        1574   \n",
       "4      123204         1526     2021-03-29 23:58:22        1577   \n",
       "\n",
       "  fhr_muestra_last_afino  first_colada fhr_muestra_first_mcc  last_colada  \\\n",
       "0    2021-03-29 20:56:01          1521   2021-03-29 21:16:31         1530   \n",
       "1    2021-03-29 21:48:55          1534   2021-03-29 22:02:43         1525   \n",
       "2    2021-03-29 22:40:59          1533   2021-03-29 22:57:12         1530   \n",
       "3    2021-03-29 23:33:38          1534   2021-03-29 23:55:11         1538   \n",
       "4    2021-03-30 00:24:50          1535   2021-03-30 00:45:59         1529   \n",
       "\n",
       "  fhr_muestra_last_mcc  mean_temp_colada  std_temp_colada  max_colada  \\\n",
       "0  2021-03-29 21:50:56       1526.714286         3.251373        1530   \n",
       "1  2021-03-29 22:44:08       1526.800000         4.266146        1534   \n",
       "2  2021-03-29 23:45:12       1534.333333         5.131601        1540   \n",
       "3  2021-03-30 00:20:33       1536.000000         2.828427        1538   \n",
       "4  2021-03-30 01:12:35       1532.000000         4.242641        1535   \n",
       "\n",
       "   min_colada  SH_promedio    SH_std    SH_min    SH_max  cla_horno  \n",
       "0        1521    22.790326  3.251373  17.07604  26.07604          3  \n",
       "1        1523    17.968430  4.266146  14.16843  25.16843          3  \n",
       "2        1530    31.382013  5.131601  27.04868  37.04868          3  \n",
       "3        1534    32.557170  2.828427  30.55717  34.55717          3  \n",
       "4        1529    28.231830  4.242641  25.23183  31.23183          3  "
      ]
     },
     "execution_count": 383,
     "metadata": {},
     "output_type": "execute_result"
    }
   ],
   "source": [
    "df_temp.head()"
   ]
  },
  {
   "cell_type": "code",
   "execution_count": 386,
   "id": "5c1e8c40",
   "metadata": {
    "ExecuteTime": {
     "end_time": "2022-11-09T17:59:11.106363Z",
     "start_time": "2022-11-09T17:59:11.097358Z"
    }
   },
   "outputs": [],
   "source": [
    "resultados_pred = pd.DataFrame(y_test).assign(y_pred = y_pred)\n",
    "resultados_pred.rename(columns = {\"last_afino\": \"y_real\"}, inplace = True)"
   ]
  },
  {
   "cell_type": "code",
   "execution_count": 387,
   "id": "3ed91110",
   "metadata": {
    "ExecuteTime": {
     "end_time": "2022-11-09T17:59:21.082723Z",
     "start_time": "2022-11-09T17:59:21.060744Z"
    }
   },
   "outputs": [],
   "source": [
    "resultados_pred = resultados_pred.join(df_temp.set_index(\"cla_colada\")[\"SH_promedio\"])"
   ]
  },
  {
   "cell_type": "code",
   "execution_count": 388,
   "id": "a83c3426",
   "metadata": {
    "ExecuteTime": {
     "end_time": "2022-11-09T17:59:22.587160Z",
     "start_time": "2022-11-09T17:59:22.580178Z"
    },
    "scrolled": false
   },
   "outputs": [
    {
     "data": {
      "text/html": [
       "<div>\n",
       "<style scoped>\n",
       "    .dataframe tbody tr th:only-of-type {\n",
       "        vertical-align: middle;\n",
       "    }\n",
       "\n",
       "    .dataframe tbody tr th {\n",
       "        vertical-align: top;\n",
       "    }\n",
       "\n",
       "    .dataframe thead th {\n",
       "        text-align: right;\n",
       "    }\n",
       "</style>\n",
       "<table border=\"1\" class=\"dataframe\">\n",
       "  <thead>\n",
       "    <tr style=\"text-align: right;\">\n",
       "      <th></th>\n",
       "      <th>y_real</th>\n",
       "      <th>y_pred</th>\n",
       "      <th>SH_promedio</th>\n",
       "    </tr>\n",
       "    <tr>\n",
       "      <th>cla_colada</th>\n",
       "      <th></th>\n",
       "      <th></th>\n",
       "      <th></th>\n",
       "    </tr>\n",
       "  </thead>\n",
       "  <tbody>\n",
       "    <tr>\n",
       "      <th>126221</th>\n",
       "      <td>1562</td>\n",
       "      <td>1562.384122</td>\n",
       "      <td>30.226163</td>\n",
       "    </tr>\n",
       "    <tr>\n",
       "      <th>125478</th>\n",
       "      <td>1568</td>\n",
       "      <td>1570.092643</td>\n",
       "      <td>30.472790</td>\n",
       "    </tr>\n",
       "    <tr>\n",
       "      <th>130116</th>\n",
       "      <td>1560</td>\n",
       "      <td>1557.889440</td>\n",
       "      <td>26.514430</td>\n",
       "    </tr>\n",
       "    <tr>\n",
       "      <th>130732</th>\n",
       "      <td>1560</td>\n",
       "      <td>1559.142632</td>\n",
       "      <td>24.725900</td>\n",
       "    </tr>\n",
       "    <tr>\n",
       "      <th>125557</th>\n",
       "      <td>1563</td>\n",
       "      <td>1564.063507</td>\n",
       "      <td>28.513170</td>\n",
       "    </tr>\n",
       "  </tbody>\n",
       "</table>\n",
       "</div>"
      ],
      "text/plain": [
       "            y_real       y_pred  SH_promedio\n",
       "cla_colada                                  \n",
       "126221        1562  1562.384122    30.226163\n",
       "125478        1568  1570.092643    30.472790\n",
       "130116        1560  1557.889440    26.514430\n",
       "130732        1560  1559.142632    24.725900\n",
       "125557        1563  1564.063507    28.513170"
      ]
     },
     "execution_count": 388,
     "metadata": {},
     "output_type": "execute_result"
    }
   ],
   "source": [
    "resultados_pred.head()"
   ]
  },
  {
   "cell_type": "code",
   "execution_count": 389,
   "id": "406d2d6c",
   "metadata": {
    "ExecuteTime": {
     "end_time": "2022-11-09T17:59:47.199766Z",
     "start_time": "2022-11-09T17:59:47.183776Z"
    }
   },
   "outputs": [],
   "source": [
    "# Calcular el residual\n",
    "\n",
    "residuals = abs(y_test - y_pred)\n",
    "residuals_ok = residuals[residuals <= 5] #Quedarnos solo con el porcentaje de datos con las métricas aceptadas"
   ]
  },
  {
   "cell_type": "code",
   "execution_count": 390,
   "id": "e37a10c5",
   "metadata": {
    "ExecuteTime": {
     "end_time": "2022-11-09T17:59:48.035707Z",
     "start_time": "2022-11-09T17:59:48.006738Z"
    },
    "scrolled": false
   },
   "outputs": [
    {
     "data": {
      "text/html": [
       "<div>\n",
       "<style scoped>\n",
       "    .dataframe tbody tr th:only-of-type {\n",
       "        vertical-align: middle;\n",
       "    }\n",
       "\n",
       "    .dataframe tbody tr th {\n",
       "        vertical-align: top;\n",
       "    }\n",
       "\n",
       "    .dataframe thead th {\n",
       "        text-align: right;\n",
       "    }\n",
       "</style>\n",
       "<table border=\"1\" class=\"dataframe\">\n",
       "  <thead>\n",
       "    <tr style=\"text-align: right;\">\n",
       "      <th></th>\n",
       "      <th>y_real</th>\n",
       "      <th>y_pred</th>\n",
       "      <th>SH_promedio</th>\n",
       "    </tr>\n",
       "  </thead>\n",
       "  <tbody>\n",
       "    <tr>\n",
       "      <th>count</th>\n",
       "      <td>1133.000000</td>\n",
       "      <td>1133.000000</td>\n",
       "      <td>1133.000000</td>\n",
       "    </tr>\n",
       "    <tr>\n",
       "      <th>mean</th>\n",
       "      <td>1563.681377</td>\n",
       "      <td>1563.986434</td>\n",
       "      <td>28.813019</td>\n",
       "    </tr>\n",
       "    <tr>\n",
       "      <th>std</th>\n",
       "      <td>8.427302</td>\n",
       "      <td>7.948899</td>\n",
       "      <td>5.246928</td>\n",
       "    </tr>\n",
       "    <tr>\n",
       "      <th>min</th>\n",
       "      <td>1548.000000</td>\n",
       "      <td>1551.138981</td>\n",
       "      <td>13.150850</td>\n",
       "    </tr>\n",
       "    <tr>\n",
       "      <th>25%</th>\n",
       "      <td>1558.000000</td>\n",
       "      <td>1558.555973</td>\n",
       "      <td>25.395460</td>\n",
       "    </tr>\n",
       "    <tr>\n",
       "      <th>50%</th>\n",
       "      <td>1562.000000</td>\n",
       "      <td>1562.065670</td>\n",
       "      <td>28.676527</td>\n",
       "    </tr>\n",
       "    <tr>\n",
       "      <th>75%</th>\n",
       "      <td>1567.000000</td>\n",
       "      <td>1567.284748</td>\n",
       "      <td>32.017820</td>\n",
       "    </tr>\n",
       "    <tr>\n",
       "      <th>max</th>\n",
       "      <td>1599.000000</td>\n",
       "      <td>1598.587902</td>\n",
       "      <td>48.519113</td>\n",
       "    </tr>\n",
       "  </tbody>\n",
       "</table>\n",
       "</div>"
      ],
      "text/plain": [
       "            y_real       y_pred  SH_promedio\n",
       "count  1133.000000  1133.000000  1133.000000\n",
       "mean   1563.681377  1563.986434    28.813019\n",
       "std       8.427302     7.948899     5.246928\n",
       "min    1548.000000  1551.138981    13.150850\n",
       "25%    1558.000000  1558.555973    25.395460\n",
       "50%    1562.000000  1562.065670    28.676527\n",
       "75%    1567.000000  1567.284748    32.017820\n",
       "max    1599.000000  1598.587902    48.519113"
      ]
     },
     "execution_count": 390,
     "metadata": {},
     "output_type": "execute_result"
    }
   ],
   "source": [
    "# Elegimos las coladas con un error de predicción dentro de +/- 5°C\n",
    "\n",
    "resultados_pred = resultados_pred.loc[residuals_ok.index]\n",
    "resultados_pred.describe()"
   ]
  },
  {
   "cell_type": "code",
   "execution_count": 391,
   "id": "3aa1004d",
   "metadata": {
    "ExecuteTime": {
     "end_time": "2022-11-09T17:59:54.463273Z",
     "start_time": "2022-11-09T17:59:54.442298Z"
    }
   },
   "outputs": [
    {
     "data": {
      "text/html": [
       "<div>\n",
       "<style scoped>\n",
       "    .dataframe tbody tr th:only-of-type {\n",
       "        vertical-align: middle;\n",
       "    }\n",
       "\n",
       "    .dataframe tbody tr th {\n",
       "        vertical-align: top;\n",
       "    }\n",
       "\n",
       "    .dataframe thead th {\n",
       "        text-align: right;\n",
       "    }\n",
       "</style>\n",
       "<table border=\"1\" class=\"dataframe\">\n",
       "  <thead>\n",
       "    <tr style=\"text-align: right;\">\n",
       "      <th></th>\n",
       "      <th>y_real</th>\n",
       "      <th>y_pred</th>\n",
       "      <th>SH_promedio</th>\n",
       "    </tr>\n",
       "    <tr>\n",
       "      <th>cla_colada</th>\n",
       "      <th></th>\n",
       "      <th></th>\n",
       "      <th></th>\n",
       "    </tr>\n",
       "  </thead>\n",
       "  <tbody>\n",
       "    <tr>\n",
       "      <th>126221</th>\n",
       "      <td>1562</td>\n",
       "      <td>1562.384122</td>\n",
       "      <td>30.226163</td>\n",
       "    </tr>\n",
       "    <tr>\n",
       "      <th>125478</th>\n",
       "      <td>1568</td>\n",
       "      <td>1570.092643</td>\n",
       "      <td>30.472790</td>\n",
       "    </tr>\n",
       "    <tr>\n",
       "      <th>130116</th>\n",
       "      <td>1560</td>\n",
       "      <td>1557.889440</td>\n",
       "      <td>26.514430</td>\n",
       "    </tr>\n",
       "    <tr>\n",
       "      <th>130732</th>\n",
       "      <td>1560</td>\n",
       "      <td>1559.142632</td>\n",
       "      <td>24.725900</td>\n",
       "    </tr>\n",
       "    <tr>\n",
       "      <th>125557</th>\n",
       "      <td>1563</td>\n",
       "      <td>1564.063507</td>\n",
       "      <td>28.513170</td>\n",
       "    </tr>\n",
       "    <tr>\n",
       "      <th>...</th>\n",
       "      <td>...</td>\n",
       "      <td>...</td>\n",
       "      <td>...</td>\n",
       "    </tr>\n",
       "    <tr>\n",
       "      <th>133938</th>\n",
       "      <td>1567</td>\n",
       "      <td>1570.606527</td>\n",
       "      <td>30.139090</td>\n",
       "    </tr>\n",
       "    <tr>\n",
       "      <th>125995</th>\n",
       "      <td>1563</td>\n",
       "      <td>1561.977445</td>\n",
       "      <td>31.505220</td>\n",
       "    </tr>\n",
       "    <tr>\n",
       "      <th>130394</th>\n",
       "      <td>1561</td>\n",
       "      <td>1559.545196</td>\n",
       "      <td>29.681730</td>\n",
       "    </tr>\n",
       "    <tr>\n",
       "      <th>135169</th>\n",
       "      <td>1557</td>\n",
       "      <td>1557.549641</td>\n",
       "      <td>25.348099</td>\n",
       "    </tr>\n",
       "    <tr>\n",
       "      <th>127530</th>\n",
       "      <td>1554</td>\n",
       "      <td>1557.051048</td>\n",
       "      <td>28.207200</td>\n",
       "    </tr>\n",
       "  </tbody>\n",
       "</table>\n",
       "<p>1133 rows × 3 columns</p>\n",
       "</div>"
      ],
      "text/plain": [
       "            y_real       y_pred  SH_promedio\n",
       "cla_colada                                  \n",
       "126221        1562  1562.384122    30.226163\n",
       "125478        1568  1570.092643    30.472790\n",
       "130116        1560  1557.889440    26.514430\n",
       "130732        1560  1559.142632    24.725900\n",
       "125557        1563  1564.063507    28.513170\n",
       "...            ...          ...          ...\n",
       "133938        1567  1570.606527    30.139090\n",
       "125995        1563  1561.977445    31.505220\n",
       "130394        1561  1559.545196    29.681730\n",
       "135169        1557  1557.549641    25.348099\n",
       "127530        1554  1557.051048    28.207200\n",
       "\n",
       "[1133 rows x 3 columns]"
      ]
     },
     "execution_count": 391,
     "metadata": {},
     "output_type": "execute_result"
    }
   ],
   "source": [
    "resultados_pred"
   ]
  },
  {
   "cell_type": "markdown",
   "id": "be7151f0",
   "metadata": {},
   "source": [
    "## Graficar superheat Real"
   ]
  },
  {
   "cell_type": "code",
   "execution_count": 361,
   "id": "77e8ce1f",
   "metadata": {
    "ExecuteTime": {
     "end_time": "2022-11-09T17:55:44.898724Z",
     "start_time": "2022-11-09T17:55:44.885692Z"
    }
   },
   "outputs": [],
   "source": [
    "yreal = resultados_pred[\"y_real\"]\n",
    "ypred = resultados_pred[\"y_pred\"]\n",
    "sh_real = resultados_pred[\"SH_promedio\"]"
   ]
  },
  {
   "cell_type": "code",
   "execution_count": 395,
   "id": "6f90c666",
   "metadata": {
    "ExecuteTime": {
     "end_time": "2022-11-09T18:02:37.714007Z",
     "start_time": "2022-11-09T18:02:37.697907Z"
    },
    "scrolled": true
   },
   "outputs": [
    {
     "data": {
      "text/html": [
       "<div>\n",
       "<style scoped>\n",
       "    .dataframe tbody tr th:only-of-type {\n",
       "        vertical-align: middle;\n",
       "    }\n",
       "\n",
       "    .dataframe tbody tr th {\n",
       "        vertical-align: top;\n",
       "    }\n",
       "\n",
       "    .dataframe thead th {\n",
       "        text-align: right;\n",
       "    }\n",
       "</style>\n",
       "<table border=\"1\" class=\"dataframe\">\n",
       "  <thead>\n",
       "    <tr style=\"text-align: right;\">\n",
       "      <th></th>\n",
       "      <th>SH_promedio</th>\n",
       "    </tr>\n",
       "    <tr>\n",
       "      <th>cla_colada</th>\n",
       "      <th></th>\n",
       "    </tr>\n",
       "  </thead>\n",
       "  <tbody>\n",
       "    <tr>\n",
       "      <th>126221</th>\n",
       "      <td>30.226163</td>\n",
       "    </tr>\n",
       "    <tr>\n",
       "      <th>125478</th>\n",
       "      <td>30.472790</td>\n",
       "    </tr>\n",
       "  </tbody>\n",
       "</table>\n",
       "</div>"
      ],
      "text/plain": [
       "            SH_promedio\n",
       "cla_colada             \n",
       "126221        30.226163\n",
       "125478        30.472790"
      ]
     },
     "execution_count": 395,
     "metadata": {},
     "output_type": "execute_result"
    }
   ],
   "source": [
    "#Crear dataframe para categorizar el superheat:\n",
    "# 0: Superheat en control\n",
    "# 1: Superheat menor que 20°C\n",
    "# 2: Superheat mayor que 30°C\n",
    "\n",
    "df_SH = pd.DataFrame(sh_real)\n",
    "df_SH.head(2)"
   ]
  },
  {
   "cell_type": "code",
   "execution_count": 396,
   "id": "52869acc",
   "metadata": {
    "ExecuteTime": {
     "end_time": "2022-11-09T18:02:38.942086Z",
     "start_time": "2022-11-09T18:02:38.929563Z"
    }
   },
   "outputs": [
    {
     "name": "stdout",
     "output_type": "stream",
     "text": [
      "Pocentajes:\n",
      "Control:  56.31%, \n",
      "Menor a 20:  4.24%, \n",
      "Mayor a 30:  39.45%\n"
     ]
    }
   ],
   "source": [
    "df_SH[\"control\"] = 0 # En control\n",
    "df_SH.loc[df_SH[\"SH_promedio\"] < 20, \"control\"] = 1 #Menor\n",
    "df_SH.loc[df_SH[\"SH_promedio\"] > 30, \"control\"] = 2 #Mayor\n",
    "\n",
    "# Porcentaje de datos de cada categoría\n",
    "prc_inf_sh = (df_SH[\"SH_promedio\"] < 20).sum() * 100/df_SH.shape[0]\n",
    "prc_sup_sh = (df_SH[\"SH_promedio\"] > 30).sum()  * 100/df_SH.shape[0]\n",
    "prc_control_sh = ((df_SH[\"SH_promedio\"] >= 20)&(df_SH[\"SH_promedio\"] <= 30)).sum()* 100/df_SH.shape[0]\n",
    "\n",
    "print(f\"Pocentajes:\\nControl: {prc_control_sh: .2f}%, \\nMenor a 20: {prc_inf_sh: .2f}%, \\nMayor a 30: {prc_sup_sh: .2f}%\")"
   ]
  },
  {
   "cell_type": "code",
   "execution_count": 397,
   "id": "56515736",
   "metadata": {
    "ExecuteTime": {
     "end_time": "2022-11-09T18:02:39.827809Z",
     "start_time": "2022-11-09T18:02:39.814304Z"
    }
   },
   "outputs": [
    {
     "data": {
      "text/html": [
       "<div>\n",
       "<style scoped>\n",
       "    .dataframe tbody tr th:only-of-type {\n",
       "        vertical-align: middle;\n",
       "    }\n",
       "\n",
       "    .dataframe tbody tr th {\n",
       "        vertical-align: top;\n",
       "    }\n",
       "\n",
       "    .dataframe thead th {\n",
       "        text-align: right;\n",
       "    }\n",
       "</style>\n",
       "<table border=\"1\" class=\"dataframe\">\n",
       "  <thead>\n",
       "    <tr style=\"text-align: right;\">\n",
       "      <th></th>\n",
       "      <th>SH_promedio</th>\n",
       "      <th>control</th>\n",
       "    </tr>\n",
       "    <tr>\n",
       "      <th>cla_colada</th>\n",
       "      <th></th>\n",
       "      <th></th>\n",
       "    </tr>\n",
       "  </thead>\n",
       "  <tbody>\n",
       "    <tr>\n",
       "      <th>126221</th>\n",
       "      <td>30.226163</td>\n",
       "      <td>2</td>\n",
       "    </tr>\n",
       "    <tr>\n",
       "      <th>125478</th>\n",
       "      <td>30.472790</td>\n",
       "      <td>2</td>\n",
       "    </tr>\n",
       "    <tr>\n",
       "      <th>130116</th>\n",
       "      <td>26.514430</td>\n",
       "      <td>0</td>\n",
       "    </tr>\n",
       "    <tr>\n",
       "      <th>130732</th>\n",
       "      <td>24.725900</td>\n",
       "      <td>0</td>\n",
       "    </tr>\n",
       "    <tr>\n",
       "      <th>125557</th>\n",
       "      <td>28.513170</td>\n",
       "      <td>0</td>\n",
       "    </tr>\n",
       "  </tbody>\n",
       "</table>\n",
       "</div>"
      ],
      "text/plain": [
       "            SH_promedio  control\n",
       "cla_colada                      \n",
       "126221        30.226163        2\n",
       "125478        30.472790        2\n",
       "130116        26.514430        0\n",
       "130732        24.725900        0\n",
       "125557        28.513170        0"
      ]
     },
     "execution_count": 397,
     "metadata": {},
     "output_type": "execute_result"
    }
   ],
   "source": [
    "df_SH.head()"
   ]
  },
  {
   "cell_type": "code",
   "execution_count": 398,
   "id": "c0d884e6",
   "metadata": {
    "ExecuteTime": {
     "end_time": "2022-11-09T18:02:41.843089Z",
     "start_time": "2022-11-09T18:02:41.831975Z"
    }
   },
   "outputs": [],
   "source": [
    "## Agregar fecha administrativa\n",
    "# df_SH = df_SH.join(data_RW.set_index(\"cla_colada\")[\"fecha_administrativa\"])"
   ]
  },
  {
   "cell_type": "code",
   "execution_count": 435,
   "id": "0cc3cb6a",
   "metadata": {
    "ExecuteTime": {
     "end_time": "2022-11-09T18:46:39.792136Z",
     "start_time": "2022-11-09T18:46:39.778141Z"
    }
   },
   "outputs": [],
   "source": [
    "# Mapa de colores según categoría\n",
    "\n",
    "dict_colors = {0: \"mediumblue\", 1: \"gray\", 2: \"orangered\"}\n",
    "df_SH[\"control\"] = df_SH[\"control\"].map(dict_colors) ## Mapear cateoría a color"
   ]
  },
  {
   "cell_type": "code",
   "execution_count": 400,
   "id": "1a5e75e0",
   "metadata": {
    "ExecuteTime": {
     "end_time": "2022-11-09T18:02:43.702017Z",
     "start_time": "2022-11-09T18:02:43.548225Z"
    },
    "scrolled": false
   },
   "outputs": [
    {
     "data": {
      "image/png": "[encoded data removed]",
      "text/plain": [
       "<Figure size 720x432 with 1 Axes>"
      ]
     },
     "metadata": {
      "needs_background": "light"
     },
     "output_type": "display_data"
    }
   ],
   "source": [
    "# Gráfica\n",
    "plt.figure(figsize = (10,6))\n",
    "plt.scatter(x = np.arange(len(sh_real)), y = df_SH[\"SH_promedio\"], c = df_SH[\"control\"], alpha = 0.6) ## Superheat\n",
    "plt.axhline(y = 25, color = 'lime', label = \"SH_ideal\") ## Referencia de superheat ideal = 25°C\n",
    "plt.axhline(y = 30, color = 'r', linestyle = \"dotted\") ## Referencia de superheat límite superior\n",
    "plt.axhline(y = 20, color = 'r', linestyle = \"dotted\") ## Referencia de superheat límite inferior\n",
    "# Etiquetas ejes\n",
    "plt.ylabel(\"Superheat (°C)\")\n",
    "plt.xlabel(\"N° Muestras\")\n",
    "plt.title(f\"\"\"Superheat Real \\n Horno {horno}\"\"\")\n",
    "plt.yticks(np.arange(0, max(sh_real)+1, 10))\n",
    "# Texto\n",
    "params = {\"fontsize\": 10, \"color\": \"red\"}\n",
    "plt.text(10, 7, f\"En control: {prc_control_sh: .2f}%\", **params)\n",
    "plt.text(10, 5, f\"Mayor que 30°C: {prc_sup_sh: .2f}%\", **params)\n",
    "plt.text(10, 3, f\"Menor que 20°C: {prc_inf_sh: .2f}%\", **params)\n",
    "plt.legend()\n",
    "plt.show()"
   ]
  },
  {
   "cell_type": "markdown",
   "id": "6c56f036",
   "metadata": {
    "ExecuteTime": {
     "end_time": "2022-11-08T17:05:18.773948Z",
     "start_time": "2022-11-08T17:05:18.770956Z"
    }
   },
   "source": [
    "## Gráficas superheat Error-Simulación"
   ]
  },
  {
   "cell_type": "code",
   "execution_count": 406,
   "id": "ee4bd61c",
   "metadata": {
    "ExecuteTime": {
     "end_time": "2022-11-09T18:09:59.541117Z",
     "start_time": "2022-11-09T18:09:59.534626Z"
    }
   },
   "outputs": [],
   "source": [
    "# Variable Casting time la cambiamos por el esperado\n",
    "\n",
    "data_SIM = data.copy()\n",
    "data_SIM[\"CASTING_TIME\"] = data_SIM[\"CASTING_TIME\"].shift()\n",
    "mean_value = data_SIM[\"CASTING_TIME\"].mean()\n",
    "\n",
    "data_SIM[\"CASTING_TIME\"].fillna(value=mean_value, inplace=True)"
   ]
  },
  {
   "cell_type": "code",
   "execution_count": 407,
   "id": "c4b27cd7",
   "metadata": {
    "ExecuteTime": {
     "end_time": "2022-11-09T18:10:00.471819Z",
     "start_time": "2022-11-09T18:10:00.461179Z"
    }
   },
   "outputs": [],
   "source": [
    "# Variable Casting time\n",
    "data_SIM.loc[:,\"mean_temp_colada\"] = data_SIM.loc[:,\"t_liquidus\"] + 25"
   ]
  },
  {
   "cell_type": "code",
   "execution_count": 408,
   "id": "1fe9e610",
   "metadata": {
    "ExecuteTime": {
     "end_time": "2022-11-09T18:10:57.671005Z",
     "start_time": "2022-11-09T18:10:57.633982Z"
    },
    "scrolled": false
   },
   "outputs": [
    {
     "name": "stdout",
     "output_type": "stream",
     "text": [
      "X_train: (2894, 10), X_test: (1426, 10)\n",
      "\n",
      "Prediction size: 1426\n"
     ]
    }
   ],
   "source": [
    "# Definir variables depedientes e independientes\n",
    "\n",
    "X = data_SIM[variables]\n",
    "y = data_SIM[tar]\n",
    "\n",
    "# Train Test Split\n",
    "X_train_sim, X_test_sim, y_train_sim, y_test_sim = train_test_split(X, y,\n",
    "                                                    test_size = 0.33, \n",
    "                                                    random_state = 42)\n",
    "\n",
    "print(f\"X_train: {X_train_sim.shape}, X_test: {X_test_sim.shape}\")\n",
    "\n",
    "# Predicción\n",
    "y_pred_sim = model_simulacion.predict(X_test_sim)\n",
    "print(f\"\\nPrediction size: {len(y_pred_sim)}\")"
   ]
  },
  {
   "cell_type": "code",
   "execution_count": 426,
   "id": "f44357b7",
   "metadata": {
    "ExecuteTime": {
     "end_time": "2022-11-09T18:44:14.261470Z",
     "start_time": "2022-11-09T18:44:14.247511Z"
    }
   },
   "outputs": [
    {
     "data": {
      "text/html": [
       "<div>\n",
       "<style scoped>\n",
       "    .dataframe tbody tr th:only-of-type {\n",
       "        vertical-align: middle;\n",
       "    }\n",
       "\n",
       "    .dataframe tbody tr th {\n",
       "        vertical-align: top;\n",
       "    }\n",
       "\n",
       "    .dataframe thead th {\n",
       "        text-align: right;\n",
       "    }\n",
       "</style>\n",
       "<table border=\"1\" class=\"dataframe\">\n",
       "  <thead>\n",
       "    <tr style=\"text-align: right;\">\n",
       "      <th></th>\n",
       "      <th>y_real</th>\n",
       "      <th>y_pred</th>\n",
       "    </tr>\n",
       "    <tr>\n",
       "      <th>cla_colada</th>\n",
       "      <th></th>\n",
       "      <th></th>\n",
       "    </tr>\n",
       "  </thead>\n",
       "  <tbody>\n",
       "    <tr>\n",
       "      <th>126221</th>\n",
       "      <td>1562</td>\n",
       "      <td>1557.219019</td>\n",
       "    </tr>\n",
       "    <tr>\n",
       "      <th>125478</th>\n",
       "      <td>1568</td>\n",
       "      <td>1561.181757</td>\n",
       "    </tr>\n",
       "  </tbody>\n",
       "</table>\n",
       "</div>"
      ],
      "text/plain": [
       "            y_real       y_pred\n",
       "cla_colada                     \n",
       "126221        1562  1557.219019\n",
       "125478        1568  1561.181757"
      ]
     },
     "execution_count": 426,
     "metadata": {},
     "output_type": "execute_result"
    }
   ],
   "source": [
    "# Tabla de resultados\n",
    "resultados_pred_SIM = pd.DataFrame(y_test_sim).assign(y_pred = y_pred_sim)\n",
    "resultados_pred_SIM.rename(columns = {\"last_afino\": \"y_real\"}, inplace = True)\n",
    "resultados_pred_SIM.head(2)"
   ]
  },
  {
   "cell_type": "code",
   "execution_count": 427,
   "id": "e36fc978",
   "metadata": {
    "ExecuteTime": {
     "end_time": "2022-11-09T18:44:15.184781Z",
     "start_time": "2022-11-09T18:44:15.156841Z"
    }
   },
   "outputs": [
    {
     "data": {
      "text/html": [
       "<div>\n",
       "<style scoped>\n",
       "    .dataframe tbody tr th:only-of-type {\n",
       "        vertical-align: middle;\n",
       "    }\n",
       "\n",
       "    .dataframe tbody tr th {\n",
       "        vertical-align: top;\n",
       "    }\n",
       "\n",
       "    .dataframe thead th {\n",
       "        text-align: right;\n",
       "    }\n",
       "</style>\n",
       "<table border=\"1\" class=\"dataframe\">\n",
       "  <thead>\n",
       "    <tr style=\"text-align: right;\">\n",
       "      <th></th>\n",
       "      <th>y_real</th>\n",
       "      <th>y_pred</th>\n",
       "      <th>SH_promedio</th>\n",
       "    </tr>\n",
       "    <tr>\n",
       "      <th>cla_colada</th>\n",
       "      <th></th>\n",
       "      <th></th>\n",
       "      <th></th>\n",
       "    </tr>\n",
       "  </thead>\n",
       "  <tbody>\n",
       "    <tr>\n",
       "      <th>126221</th>\n",
       "      <td>1562</td>\n",
       "      <td>1557.219019</td>\n",
       "      <td>30.226163</td>\n",
       "    </tr>\n",
       "    <tr>\n",
       "      <th>125478</th>\n",
       "      <td>1568</td>\n",
       "      <td>1561.181757</td>\n",
       "      <td>30.472790</td>\n",
       "    </tr>\n",
       "    <tr>\n",
       "      <th>130116</th>\n",
       "      <td>1560</td>\n",
       "      <td>1555.792394</td>\n",
       "      <td>26.514430</td>\n",
       "    </tr>\n",
       "    <tr>\n",
       "      <th>130732</th>\n",
       "      <td>1560</td>\n",
       "      <td>1562.430894</td>\n",
       "      <td>24.725900</td>\n",
       "    </tr>\n",
       "    <tr>\n",
       "      <th>125557</th>\n",
       "      <td>1563</td>\n",
       "      <td>1561.602958</td>\n",
       "      <td>28.513170</td>\n",
       "    </tr>\n",
       "  </tbody>\n",
       "</table>\n",
       "</div>"
      ],
      "text/plain": [
       "            y_real       y_pred  SH_promedio\n",
       "cla_colada                                  \n",
       "126221        1562  1557.219019    30.226163\n",
       "125478        1568  1561.181757    30.472790\n",
       "130116        1560  1555.792394    26.514430\n",
       "130732        1560  1562.430894    24.725900\n",
       "125557        1563  1561.602958    28.513170"
      ]
     },
     "execution_count": 427,
     "metadata": {},
     "output_type": "execute_result"
    }
   ],
   "source": [
    "# Se agrega el Superheat Real\n",
    "resultados_pred_SIM = resultados_pred_SIM.join(df_temp.set_index(\"cla_colada\")[\"SH_promedio\"])\n",
    "resultados_pred_SIM.head()"
   ]
  },
  {
   "cell_type": "code",
   "execution_count": 428,
   "id": "d331dd6f",
   "metadata": {
    "ExecuteTime": {
     "end_time": "2022-11-09T18:44:16.119071Z",
     "start_time": "2022-11-09T18:44:16.091634Z"
    }
   },
   "outputs": [
    {
     "data": {
      "text/html": [
       "<div>\n",
       "<style scoped>\n",
       "    .dataframe tbody tr th:only-of-type {\n",
       "        vertical-align: middle;\n",
       "    }\n",
       "\n",
       "    .dataframe tbody tr th {\n",
       "        vertical-align: top;\n",
       "    }\n",
       "\n",
       "    .dataframe thead th {\n",
       "        text-align: right;\n",
       "    }\n",
       "</style>\n",
       "<table border=\"1\" class=\"dataframe\">\n",
       "  <thead>\n",
       "    <tr style=\"text-align: right;\">\n",
       "      <th></th>\n",
       "      <th>y_real</th>\n",
       "      <th>y_pred</th>\n",
       "      <th>SH_promedio</th>\n",
       "    </tr>\n",
       "  </thead>\n",
       "  <tbody>\n",
       "    <tr>\n",
       "      <th>count</th>\n",
       "      <td>1133.000000</td>\n",
       "      <td>1133.000000</td>\n",
       "      <td>1133.000000</td>\n",
       "    </tr>\n",
       "    <tr>\n",
       "      <th>mean</th>\n",
       "      <td>1563.681377</td>\n",
       "      <td>1561.180681</td>\n",
       "      <td>28.813019</td>\n",
       "    </tr>\n",
       "    <tr>\n",
       "      <th>std</th>\n",
       "      <td>8.427302</td>\n",
       "      <td>7.471945</td>\n",
       "      <td>5.246928</td>\n",
       "    </tr>\n",
       "    <tr>\n",
       "      <th>min</th>\n",
       "      <td>1548.000000</td>\n",
       "      <td>1549.584349</td>\n",
       "      <td>13.150850</td>\n",
       "    </tr>\n",
       "    <tr>\n",
       "      <th>25%</th>\n",
       "      <td>1558.000000</td>\n",
       "      <td>1556.429733</td>\n",
       "      <td>25.395460</td>\n",
       "    </tr>\n",
       "    <tr>\n",
       "      <th>50%</th>\n",
       "      <td>1562.000000</td>\n",
       "      <td>1558.940881</td>\n",
       "      <td>28.676527</td>\n",
       "    </tr>\n",
       "    <tr>\n",
       "      <th>75%</th>\n",
       "      <td>1567.000000</td>\n",
       "      <td>1563.623189</td>\n",
       "      <td>32.017820</td>\n",
       "    </tr>\n",
       "    <tr>\n",
       "      <th>max</th>\n",
       "      <td>1599.000000</td>\n",
       "      <td>1594.718626</td>\n",
       "      <td>48.519113</td>\n",
       "    </tr>\n",
       "  </tbody>\n",
       "</table>\n",
       "</div>"
      ],
      "text/plain": [
       "            y_real       y_pred  SH_promedio\n",
       "count  1133.000000  1133.000000  1133.000000\n",
       "mean   1563.681377  1561.180681    28.813019\n",
       "std       8.427302     7.471945     5.246928\n",
       "min    1548.000000  1549.584349    13.150850\n",
       "25%    1558.000000  1556.429733    25.395460\n",
       "50%    1562.000000  1558.940881    28.676527\n",
       "75%    1567.000000  1563.623189    32.017820\n",
       "max    1599.000000  1594.718626    48.519113"
      ]
     },
     "execution_count": 428,
     "metadata": {},
     "output_type": "execute_result"
    }
   ],
   "source": [
    "# Elegimos las coladas con un error de predicción dentro de +/- 5°C (Las mismas elegidas en la sección anterior)\n",
    "resultados_pred_SIM = resultados_pred_SIM.loc[residuals_ok.index]\n",
    "resultados_pred_SIM.describe()"
   ]
  },
  {
   "cell_type": "code",
   "execution_count": 429,
   "id": "acb36470",
   "metadata": {
    "ExecuteTime": {
     "end_time": "2022-11-09T18:44:26.072604Z",
     "start_time": "2022-11-09T18:44:26.058639Z"
    }
   },
   "outputs": [],
   "source": [
    "## SIMULACIÓN:\n",
    "## Se asume que el error de predicción afectará directamente al superheat \n",
    "\n",
    "residual_sim = resultados_pred_SIM[\"y_real\"] - resultados_pred_SIM[\"y_pred\"]\n",
    "resultados_pred_SIM[\"SH_Simulado\"] = resultados_pred_SIM[\"SH_promedio\"] - residual_sim #error de superheat"
   ]
  },
  {
   "cell_type": "code",
   "execution_count": 430,
   "id": "a4554f01",
   "metadata": {
    "ExecuteTime": {
     "end_time": "2022-11-09T18:44:26.970987Z",
     "start_time": "2022-11-09T18:44:26.959018Z"
    }
   },
   "outputs": [
    {
     "data": {
      "text/html": [
       "<div>\n",
       "<style scoped>\n",
       "    .dataframe tbody tr th:only-of-type {\n",
       "        vertical-align: middle;\n",
       "    }\n",
       "\n",
       "    .dataframe tbody tr th {\n",
       "        vertical-align: top;\n",
       "    }\n",
       "\n",
       "    .dataframe thead th {\n",
       "        text-align: right;\n",
       "    }\n",
       "</style>\n",
       "<table border=\"1\" class=\"dataframe\">\n",
       "  <thead>\n",
       "    <tr style=\"text-align: right;\">\n",
       "      <th></th>\n",
       "      <th>y_real</th>\n",
       "      <th>y_pred</th>\n",
       "      <th>SH_promedio</th>\n",
       "      <th>SH_Simulado</th>\n",
       "    </tr>\n",
       "    <tr>\n",
       "      <th>cla_colada</th>\n",
       "      <th></th>\n",
       "      <th></th>\n",
       "      <th></th>\n",
       "      <th></th>\n",
       "    </tr>\n",
       "  </thead>\n",
       "  <tbody>\n",
       "    <tr>\n",
       "      <th>126221</th>\n",
       "      <td>1562</td>\n",
       "      <td>1557.219019</td>\n",
       "      <td>30.226163</td>\n",
       "      <td>25.445183</td>\n",
       "    </tr>\n",
       "    <tr>\n",
       "      <th>125478</th>\n",
       "      <td>1568</td>\n",
       "      <td>1561.181757</td>\n",
       "      <td>30.472790</td>\n",
       "      <td>23.654547</td>\n",
       "    </tr>\n",
       "  </tbody>\n",
       "</table>\n",
       "</div>"
      ],
      "text/plain": [
       "            y_real       y_pred  SH_promedio  SH_Simulado\n",
       "cla_colada                                               \n",
       "126221        1562  1557.219019    30.226163    25.445183\n",
       "125478        1568  1561.181757    30.472790    23.654547"
      ]
     },
     "execution_count": 430,
     "metadata": {},
     "output_type": "execute_result"
    }
   ],
   "source": [
    "resultados_pred_SIM.head(2)"
   ]
  },
  {
   "cell_type": "code",
   "execution_count": 436,
   "id": "96bb63da",
   "metadata": {
    "ExecuteTime": {
     "end_time": "2022-11-09T18:46:49.744651Z",
     "start_time": "2022-11-09T18:46:49.734677Z"
    },
    "scrolled": true
   },
   "outputs": [
    {
     "name": "stdout",
     "output_type": "stream",
     "text": [
      "Pocentajes:\n",
      "Control:  80.05%, \n",
      "Menor a 20:  4.15%, \n",
      "Mayor a 30:  15.80%\n"
     ]
    }
   ],
   "source": [
    "df_SHSIM = pd.DataFrame(resultados_pred_SIM[\"SH_Simulado\"])\n",
    "\n",
    "df_SHSIM[\"control\"] = 0 # En control\n",
    "df_SHSIM.loc[df_SHSIM[\"SH_Simulado\"] < 20, \"control\"] = 1 #Menor\n",
    "df_SHSIM.loc[df_SHSIM[\"SH_Simulado\"] > 30, \"control\"] = 2 #Mayor\n",
    "\n",
    "# Porcentaje de datos de cada categoría\n",
    "prc_inf_sh = (df_SHSIM[\"SH_Simulado\"] < 20).sum() * 100/df_SHSIM.shape[0]\n",
    "prc_sup_sh = (df_SHSIM[\"SH_Simulado\"] > 30).sum()  * 100/df_SHSIM.shape[0]\n",
    "prc_control_sh = ((df_SHSIM[\"SH_Simulado\"] >= 20)&(df_SHSIM[\"SH_Simulado\"] <= 30)).sum()* 100/df_SHSIM.shape[0]\n",
    "\n",
    "print(f\"Pocentajes:\\nControl: {prc_control_sh: .2f}%, \\nMenor a 20: {prc_inf_sh: .2f}%, \\nMayor a 30: {prc_sup_sh: .2f}%\")"
   ]
  },
  {
   "cell_type": "code",
   "execution_count": 438,
   "id": "96ab2f05",
   "metadata": {
    "ExecuteTime": {
     "end_time": "2022-11-09T18:47:09.933770Z",
     "start_time": "2022-11-09T18:47:09.918813Z"
    }
   },
   "outputs": [],
   "source": [
    "# Mapear categoría a color \n",
    "df_SHSIM[\"control\"] = df_SHSIM[\"control\"].map(dict_colors) ## "
   ]
  },
  {
   "cell_type": "code",
   "execution_count": 444,
   "id": "aed2460d",
   "metadata": {
    "ExecuteTime": {
     "end_time": "2022-11-09T18:51:24.958745Z",
     "start_time": "2022-11-09T18:51:24.940794Z"
    }
   },
   "outputs": [
    {
     "data": {
      "text/html": [
       "<div>\n",
       "<style scoped>\n",
       "    .dataframe tbody tr th:only-of-type {\n",
       "        vertical-align: middle;\n",
       "    }\n",
       "\n",
       "    .dataframe tbody tr th {\n",
       "        vertical-align: top;\n",
       "    }\n",
       "\n",
       "    .dataframe thead th {\n",
       "        text-align: right;\n",
       "    }\n",
       "</style>\n",
       "<table border=\"1\" class=\"dataframe\">\n",
       "  <thead>\n",
       "    <tr style=\"text-align: right;\">\n",
       "      <th></th>\n",
       "      <th>SH_Simulado</th>\n",
       "      <th>control</th>\n",
       "    </tr>\n",
       "    <tr>\n",
       "      <th>cla_colada</th>\n",
       "      <th></th>\n",
       "      <th></th>\n",
       "    </tr>\n",
       "  </thead>\n",
       "  <tbody>\n",
       "    <tr>\n",
       "      <th>126221</th>\n",
       "      <td>25.445183</td>\n",
       "      <td>mediumblue</td>\n",
       "    </tr>\n",
       "    <tr>\n",
       "      <th>125478</th>\n",
       "      <td>23.654547</td>\n",
       "      <td>mediumblue</td>\n",
       "    </tr>\n",
       "  </tbody>\n",
       "</table>\n",
       "</div>"
      ],
      "text/plain": [
       "            SH_Simulado     control\n",
       "cla_colada                         \n",
       "126221        25.445183  mediumblue\n",
       "125478        23.654547  mediumblue"
      ]
     },
     "execution_count": 444,
     "metadata": {},
     "output_type": "execute_result"
    }
   ],
   "source": [
    "df_SHSIM.head(2)"
   ]
  },
  {
   "cell_type": "code",
   "execution_count": 442,
   "id": "12a4cab2",
   "metadata": {
    "ExecuteTime": {
     "end_time": "2022-11-09T18:47:47.295924Z",
     "start_time": "2022-11-09T18:47:47.147708Z"
    }
   },
   "outputs": [
    {
     "data": {
      "image/png": "[encoded data removed]",
      "text/plain": [
       "<Figure size 720x432 with 1 Axes>"
      ]
     },
     "metadata": {
      "needs_background": "light"
     },
     "output_type": "display_data"
    }
   ],
   "source": [
    "# Gráfica\n",
    "plt.figure(figsize = (10,6))\n",
    "plt.scatter(x = np.arange(len(sh_real)), y = df_SHSIM[\"SH_Simulado\"], c = df_SHSIM[\"control\"], alpha = 0.6) ## Superheat\n",
    "plt.axhline(y = 25, color = 'lime', label = \"SH_ideal\") ## Referencia de superheat ideal = 25°C\n",
    "plt.axhline(y = 30, color = 'r', linestyle = \"dotted\") ## Referencia de superheat límite superior\n",
    "plt.axhline(y = 20, color = 'r', linestyle = \"dotted\") ## Referencia de superheat límite inferior\n",
    "# Etiquetas ejes\n",
    "plt.ylabel(\"Superheat (°C)\")\n",
    "plt.xlabel(\"N° Muestras\")\n",
    "plt.title(f\"\"\"Superheat (Simulación) \\n Horno {horno}\"\"\")\n",
    "plt.yticks(np.arange(0, max(sh_real)+1, 10))\n",
    "# Texto\n",
    "params = {\"fontsize\": 10, \"color\": \"red\"}\n",
    "plt.text(10, 7, f\"En control: {prc_control_sh: .2f}%\", **params)\n",
    "plt.text(10, 5, f\"Mayor que 30°C: {prc_sup_sh: .2f}%\", **params)\n",
    "plt.text(10, 3, f\"Menor que 20°C: {prc_inf_sh: .2f}%\", **params)\n",
    "plt.legend()\n",
    "plt.show()"
   ]
  },
  {
   "cell_type": "markdown",
   "id": "7e81883c",
   "metadata": {},
   "source": [
    "# Simulación - Online"
   ]
  },
  {
   "cell_type": "code",
   "execution_count": 135,
   "id": "01e840b1",
   "metadata": {
    "ExecuteTime": {
     "end_time": "2022-11-08T17:12:14.732203Z",
     "start_time": "2022-11-08T17:12:14.722718Z"
    },
    "scrolled": true
   },
   "outputs": [],
   "source": [
    "# sns.histplot(data[\"CASTING_TIME\"])"
   ]
  },
  {
   "cell_type": "code",
   "execution_count": 58,
   "id": "f80a4c21",
   "metadata": {
    "ExecuteTime": {
     "end_time": "2022-11-08T16:30:44.344810Z",
     "start_time": "2022-11-08T16:30:44.333840Z"
    }
   },
   "outputs": [],
   "source": [
    "# # Variable Casting time la cambiamos por el esperado\n",
    "\n",
    "# data[\"CASTING_TIME\"] = data[\"CASTING_TIME\"].shift()\n",
    "# mean_value = data[\"CASTING_TIME\"].mean()\n",
    "\n",
    "# data[\"CASTING_TIME\"].fillna(value=mean_value, inplace=True)"
   ]
  },
  {
   "cell_type": "code",
   "execution_count": 59,
   "id": "371fd6a9",
   "metadata": {
    "ExecuteTime": {
     "end_time": "2022-11-08T16:30:45.451476Z",
     "start_time": "2022-11-08T16:30:45.432527Z"
    }
   },
   "outputs": [],
   "source": [
    "# # Variable Casting time\n",
    "# data.loc[:,\"mean_temp_colada\"] = data.loc[:,\"t_liquidus\"] + 25"
   ]
  },
  {
   "cell_type": "code",
   "execution_count": 136,
   "id": "59a70fe7",
   "metadata": {
    "ExecuteTime": {
     "end_time": "2022-11-08T17:12:17.980240Z",
     "start_time": "2022-11-08T17:12:17.971239Z"
    }
   },
   "outputs": [],
   "source": [
    "# data.head(2)"
   ]
  },
  {
   "cell_type": "code",
   "execution_count": 137,
   "id": "f0350e3c",
   "metadata": {
    "ExecuteTime": {
     "end_time": "2022-11-08T17:12:18.564851Z",
     "start_time": "2022-11-08T17:12:18.555875Z"
    }
   },
   "outputs": [],
   "source": [
    "# # Definir variables depedientes e independientes\n",
    "\n",
    "# X = data[variables]\n",
    "# y = data[tar]\n",
    "\n",
    "# # Train Test Split\n",
    "# X_train, X_test, y_train, y_test = train_test_split(X, y,\n",
    "#                                                     test_size = 0.33, \n",
    "#                                                     random_state = 42)\n",
    "# print(f\"X_train: {X_train.shape}, X_test: {X_test.shape}\")"
   ]
  },
  {
   "cell_type": "code",
   "execution_count": 138,
   "id": "c2cca661",
   "metadata": {
    "ExecuteTime": {
     "end_time": "2022-11-08T17:12:19.562628Z",
     "start_time": "2022-11-08T17:12:19.546671Z"
    }
   },
   "outputs": [],
   "source": [
    "# y_pred_sim = model_simulacion.predict(X_test)"
   ]
  },
  {
   "cell_type": "code",
   "execution_count": 139,
   "id": "d8913af1",
   "metadata": {
    "ExecuteTime": {
     "end_time": "2022-11-08T17:12:31.831618Z",
     "start_time": "2022-11-08T17:12:31.815661Z"
    },
    "scrolled": true
   },
   "outputs": [],
   "source": [
    "# # Instancia de modelo\n",
    "# key_model = \"Modelo horno 2\"\n",
    "# results = GraficasResultados(y_test.values, y_pred_sim, key_model, umbral=5)\n",
    "\n",
    "# results.diagnostic_plots()"
   ]
  },
  {
   "cell_type": "markdown",
   "id": "d058c2bd",
   "metadata": {},
   "source": []
  },
  {
   "cell_type": "code",
   "execution_count": 253,
   "id": "fb551284",
   "metadata": {
    "ExecuteTime": {
     "end_time": "2022-11-09T02:00:27.571389Z",
     "start_time": "2022-11-09T02:00:27.562413Z"
    }
   },
   "outputs": [],
   "source": [
    "from datetime import datetime as dt\n",
    "\n",
    "def Calcular_Features(distri_col_contador, \n",
    "                      col_olla, \n",
    "                      mean_tons_pq_buena,\n",
    "                      flujo_mcc,\n",
    "                      fecha_inicio_vaciado,\n",
    "                      fhr_cierre_vd_ant, \n",
    "                      fhr_abre_vd_ant,\n",
    "                      fecha_hr_ini_trat, \n",
    "                      fecha_hr_ini_trat_ant,\n",
    "                      tpo_min_total_ant,\n",
    "                      t_liquidus,\n",
    "                      first_afino):\n",
    "    \"\"\"\n",
    "    Inputs:\n",
    "        distri_col_contador: (int) Número de coladas procesadas por el distribuidor\n",
    "        col_olla: (int) Número de coladas que pasaron por la olla antes de ser cambiada\n",
    "        mean_tons_pq_buena: (float) Promedio de las últimas 3 coladas de la variable \"tons_pq_buena\"\n",
    "        fecha_inicio_vaciado: (str) Variable \"fecha_inicio_vaciado\"\n",
    "        fhr_cierre_vd_ant: (str) Variable \"fhr_cierre_vd\" de la colada anterior de la olla actual\n",
    "        fhr_abre_vd_ant: (str) Variable \"fhr_abre_vd\" de la colada anterior\n",
    "        fecha_hr_ini_trat: (str) Variable \"fecha_hr_ini_trat\"\n",
    "        fecha_hr_ini_trat_ant: (str) Variable \"fecha_hr_ini_trat\" de la colada anterior\n",
    "        tpo_min_total_ant: (float) Variable \"tpo_min_total\" de la colda anterior\n",
    "        t_liquidus: (float) Temperatura de liquidus\n",
    "        first_afino: (float) Primera temperatura del horno de Afino\n",
    "\n",
    "    Returns:\n",
    "        Dataframe : Dataframe de variables independientes para estimar temperatura\n",
    "    \"\"\"\n",
    "    try:\n",
    "        #--- Convertir a formato de fecha-hora---#\n",
    "        fecha_inicio_vaciado_obj = dt.strptime(fecha_inicio_vaciado, '%Y-%m-%d %H:%M:%S') #OLLA *\n",
    "        fhr_cierre_vd_ant_obj = dt.strptime(fhr_cierre_vd_ant, '%Y-%m-%d %H:%M:%S') #OLLA *\n",
    "        fhr_abre_vd_ant_obj = dt.strptime(fhr_abre_vd_ant, '%Y-%m-%d %H:%M:%S')\n",
    "        fecha_hr_ini_trat_obj = dt.strptime(fecha_hr_ini_trat, '%Y-%m-%d %H:%M:%S') # *\n",
    "        fecha_hr_ini_trat_ant_obj = dt.strptime(fecha_hr_ini_trat_ant, '%Y-%m-%d %H:%M:%S') \n",
    "    \n",
    "        #--- Calcular variables---# \n",
    "        LADLE_EMPTY_TIME = (fecha_inicio_vaciado_obj - fhr_cierre_vd_ant_obj).seconds/60 \n",
    "        CASTING_TIME = mean_tons_pq_buena*1000/flujo_mcc\n",
    "        LADLE_FULL_TIME_CURRENT = (fecha_hr_ini_trat_obj - fecha_inicio_vaciado_obj).seconds/60 #Colada actual\n",
    "        TRANSFER_TIME_RS_CCM =  (fhr_abre_vd_ant_obj - fecha_hr_ini_trat_ant_obj).seconds/60 - tpo_min_total_ant\n",
    "        \n",
    "        #--- Crear dataframe de variables independientes---#\n",
    "\n",
    "        variables_modelo = {\"TUNDISH_HEAT_COUNTER\": distri_col_contador,\n",
    "                            \"LADLE_LIFE\": col_olla,\n",
    "                            \"LADLE_TOTAL_WEIGHT_RS\": mean_tons_pq_buena,\n",
    "                            \"LADLE_EMPTY_TIME\": LADLE_EMPTY_TIME,\n",
    "                            \"LADLE_FULL_TIME_CURRENT\": LADLE_FULL_TIME_CURRENT,\n",
    "                            \"CASTING_TIME\": CASTING_TIME,\n",
    "                            \"TRANSFER_TIME_RS_CCM\": TRANSFER_TIME_RS_CCM,\n",
    "                            \"t_liquidus\": t_liquidus,\n",
    "                            \"first_afino\": first_afino,\n",
    "                            \"mean_temp_colada\": t_liquidus + 25\n",
    "                            }\n",
    "\n",
    "        X_test = pd.DataFrame(variables_modelo, index = [0])\n",
    "\n",
    "        return X_test\n",
    "    except Exception as e:\n",
    "        print(Exception)\n",
    "        return"
   ]
  },
  {
   "cell_type": "code",
   "execution_count": 228,
   "id": "f5f51242",
   "metadata": {
    "ExecuteTime": {
     "end_time": "2022-11-09T01:53:31.131575Z",
     "start_time": "2022-11-09T01:53:31.103134Z"
    }
   },
   "outputs": [
    {
     "data": {
      "text/html": [
       "<div>\n",
       "<style scoped>\n",
       "    .dataframe tbody tr th:only-of-type {\n",
       "        vertical-align: middle;\n",
       "    }\n",
       "\n",
       "    .dataframe tbody tr th {\n",
       "        vertical-align: top;\n",
       "    }\n",
       "\n",
       "    .dataframe thead th {\n",
       "        text-align: right;\n",
       "    }\n",
       "</style>\n",
       "<table border=\"1\" class=\"dataframe\">\n",
       "  <thead>\n",
       "    <tr style=\"text-align: right;\">\n",
       "      <th></th>\n",
       "      <th>TUNDISH_HEAT_COUNTER</th>\n",
       "      <th>LADLE_LIFE</th>\n",
       "      <th>LADLE_TOTAL_WEIGHT_RS</th>\n",
       "      <th>LADLE_EMPTY_TIME</th>\n",
       "      <th>LADLE_FULL_TIME_CURRENT</th>\n",
       "      <th>CASTING_TIME</th>\n",
       "      <th>TRANSFER_TIME_RS_CCM</th>\n",
       "      <th>t_liquidus</th>\n",
       "      <th>first_afino</th>\n",
       "      <th>mean_temp_colada</th>\n",
       "    </tr>\n",
       "    <tr>\n",
       "      <th>cla_colada</th>\n",
       "      <th></th>\n",
       "      <th></th>\n",
       "      <th></th>\n",
       "      <th></th>\n",
       "      <th></th>\n",
       "      <th></th>\n",
       "      <th></th>\n",
       "      <th></th>\n",
       "      <th></th>\n",
       "      <th></th>\n",
       "    </tr>\n",
       "  </thead>\n",
       "  <tbody>\n",
       "    <tr>\n",
       "      <th>125224</th>\n",
       "      <td>26</td>\n",
       "      <td>50.0</td>\n",
       "      <td>151.17777</td>\n",
       "      <td>97.550000</td>\n",
       "      <td>23.866667</td>\n",
       "      <td>54.0</td>\n",
       "      <td>9.566633</td>\n",
       "      <td>1524.17945</td>\n",
       "      <td>1532</td>\n",
       "      <td>1553.000000</td>\n",
       "    </tr>\n",
       "    <tr>\n",
       "      <th>125242</th>\n",
       "      <td>44</td>\n",
       "      <td>97.0</td>\n",
       "      <td>148.21350</td>\n",
       "      <td>95.216667</td>\n",
       "      <td>10.683333</td>\n",
       "      <td>42.0</td>\n",
       "      <td>8.166700</td>\n",
       "      <td>1516.26498</td>\n",
       "      <td>1564</td>\n",
       "      <td>1541.000000</td>\n",
       "    </tr>\n",
       "    <tr>\n",
       "      <th>125243</th>\n",
       "      <td>45</td>\n",
       "      <td>74.0</td>\n",
       "      <td>135.62226</td>\n",
       "      <td>87.000000</td>\n",
       "      <td>13.416667</td>\n",
       "      <td>45.0</td>\n",
       "      <td>7.333333</td>\n",
       "      <td>1508.19127</td>\n",
       "      <td>1583</td>\n",
       "      <td>1539.333333</td>\n",
       "    </tr>\n",
       "    <tr>\n",
       "      <th>125244</th>\n",
       "      <td>46</td>\n",
       "      <td>55.0</td>\n",
       "      <td>112.03578</td>\n",
       "      <td>94.000000</td>\n",
       "      <td>10.266667</td>\n",
       "      <td>45.0</td>\n",
       "      <td>8.216633</td>\n",
       "      <td>1496.95203</td>\n",
       "      <td>1557</td>\n",
       "      <td>1526.666667</td>\n",
       "    </tr>\n",
       "    <tr>\n",
       "      <th>125248</th>\n",
       "      <td>50</td>\n",
       "      <td>56.0</td>\n",
       "      <td>138.57057</td>\n",
       "      <td>94.783333</td>\n",
       "      <td>10.050000</td>\n",
       "      <td>48.0</td>\n",
       "      <td>7.133367</td>\n",
       "      <td>1498.86244</td>\n",
       "      <td>1551</td>\n",
       "      <td>1530.000000</td>\n",
       "    </tr>\n",
       "    <tr>\n",
       "      <th>...</th>\n",
       "      <td>...</td>\n",
       "      <td>...</td>\n",
       "      <td>...</td>\n",
       "      <td>...</td>\n",
       "      <td>...</td>\n",
       "      <td>...</td>\n",
       "      <td>...</td>\n",
       "      <td>...</td>\n",
       "      <td>...</td>\n",
       "      <td>...</td>\n",
       "    </tr>\n",
       "    <tr>\n",
       "      <th>135523</th>\n",
       "      <td>14</td>\n",
       "      <td>23.0</td>\n",
       "      <td>135.46715</td>\n",
       "      <td>75.516667</td>\n",
       "      <td>23.966667</td>\n",
       "      <td>55.0</td>\n",
       "      <td>13.599967</td>\n",
       "      <td>1527.09772</td>\n",
       "      <td>1594</td>\n",
       "      <td>1555.000000</td>\n",
       "    </tr>\n",
       "    <tr>\n",
       "      <th>135524</th>\n",
       "      <td>15</td>\n",
       "      <td>42.0</td>\n",
       "      <td>131.29893</td>\n",
       "      <td>72.683333</td>\n",
       "      <td>20.016667</td>\n",
       "      <td>48.0</td>\n",
       "      <td>19.483300</td>\n",
       "      <td>1528.64155</td>\n",
       "      <td>1625</td>\n",
       "      <td>1559.500000</td>\n",
       "    </tr>\n",
       "    <tr>\n",
       "      <th>135530</th>\n",
       "      <td>5</td>\n",
       "      <td>94.0</td>\n",
       "      <td>127.07145</td>\n",
       "      <td>93.116667</td>\n",
       "      <td>13.700000</td>\n",
       "      <td>54.0</td>\n",
       "      <td>16.316633</td>\n",
       "      <td>1496.21234</td>\n",
       "      <td>1537</td>\n",
       "      <td>1532.444444</td>\n",
       "    </tr>\n",
       "    <tr>\n",
       "      <th>135533</th>\n",
       "      <td>8</td>\n",
       "      <td>75.0</td>\n",
       "      <td>132.98175</td>\n",
       "      <td>131.683333</td>\n",
       "      <td>12.083333</td>\n",
       "      <td>53.0</td>\n",
       "      <td>5.016633</td>\n",
       "      <td>1496.60824</td>\n",
       "      <td>1542</td>\n",
       "      <td>1529.000000</td>\n",
       "    </tr>\n",
       "    <tr>\n",
       "      <th>135552</th>\n",
       "      <td>27</td>\n",
       "      <td>49.0</td>\n",
       "      <td>130.02660</td>\n",
       "      <td>96.316667</td>\n",
       "      <td>11.850000</td>\n",
       "      <td>49.0</td>\n",
       "      <td>17.833333</td>\n",
       "      <td>1497.36193</td>\n",
       "      <td>1544</td>\n",
       "      <td>1531.500000</td>\n",
       "    </tr>\n",
       "  </tbody>\n",
       "</table>\n",
       "<p>1426 rows × 10 columns</p>\n",
       "</div>"
      ],
      "text/plain": [
       "            TUNDISH_HEAT_COUNTER  LADLE_LIFE  LADLE_TOTAL_WEIGHT_RS  \\\n",
       "cla_colada                                                            \n",
       "125224                        26        50.0              151.17777   \n",
       "125242                        44        97.0              148.21350   \n",
       "125243                        45        74.0              135.62226   \n",
       "125244                        46        55.0              112.03578   \n",
       "125248                        50        56.0              138.57057   \n",
       "...                          ...         ...                    ...   \n",
       "135523                        14        23.0              135.46715   \n",
       "135524                        15        42.0              131.29893   \n",
       "135530                         5        94.0              127.07145   \n",
       "135533                         8        75.0              132.98175   \n",
       "135552                        27        49.0              130.02660   \n",
       "\n",
       "            LADLE_EMPTY_TIME  LADLE_FULL_TIME_CURRENT  CASTING_TIME  \\\n",
       "cla_colada                                                            \n",
       "125224             97.550000                23.866667          54.0   \n",
       "125242             95.216667                10.683333          42.0   \n",
       "125243             87.000000                13.416667          45.0   \n",
       "125244             94.000000                10.266667          45.0   \n",
       "125248             94.783333                10.050000          48.0   \n",
       "...                      ...                      ...           ...   \n",
       "135523             75.516667                23.966667          55.0   \n",
       "135524             72.683333                20.016667          48.0   \n",
       "135530             93.116667                13.700000          54.0   \n",
       "135533            131.683333                12.083333          53.0   \n",
       "135552             96.316667                11.850000          49.0   \n",
       "\n",
       "            TRANSFER_TIME_RS_CCM  t_liquidus  first_afino  mean_temp_colada  \n",
       "cla_colada                                                                   \n",
       "125224                  9.566633  1524.17945         1532       1553.000000  \n",
       "125242                  8.166700  1516.26498         1564       1541.000000  \n",
       "125243                  7.333333  1508.19127         1583       1539.333333  \n",
       "125244                  8.216633  1496.95203         1557       1526.666667  \n",
       "125248                  7.133367  1498.86244         1551       1530.000000  \n",
       "...                          ...         ...          ...               ...  \n",
       "135523                 13.599967  1527.09772         1594       1555.000000  \n",
       "135524                 19.483300  1528.64155         1625       1559.500000  \n",
       "135530                 16.316633  1496.21234         1537       1532.444444  \n",
       "135533                  5.016633  1496.60824         1542       1529.000000  \n",
       "135552                 17.833333  1497.36193         1544       1531.500000  \n",
       "\n",
       "[1426 rows x 10 columns]"
      ]
     },
     "execution_count": 228,
     "metadata": {},
     "output_type": "execute_result"
    }
   ],
   "source": [
    "X_test.sort_index()"
   ]
  },
  {
   "cell_type": "code",
   "execution_count": 277,
   "id": "12cfb87f",
   "metadata": {
    "ExecuteTime": {
     "end_time": "2022-11-09T02:06:11.197928Z",
     "start_time": "2022-11-09T02:06:11.189988Z"
    },
    "scrolled": true
   },
   "outputs": [
    {
     "data": {
      "text/plain": [
       "TUNDISH_HEAT_COUNTER         46.000000\n",
       "LADLE_LIFE                   55.000000\n",
       "LADLE_TOTAL_WEIGHT_RS       112.035780\n",
       "LADLE_EMPTY_TIME             94.000000\n",
       "LADLE_FULL_TIME_CURRENT      10.266667\n",
       "CASTING_TIME                 45.000000\n",
       "TRANSFER_TIME_RS_CCM          8.216633\n",
       "t_liquidus                 1496.952030\n",
       "first_afino                1557.000000\n",
       "mean_temp_colada           1526.666667\n",
       "Name: 125244, dtype: float64"
      ]
     },
     "execution_count": 277,
     "metadata": {},
     "output_type": "execute_result"
    }
   ],
   "source": [
    "colada = 125244\n",
    "X_test.loc[colada]"
   ]
  },
  {
   "cell_type": "code",
   "execution_count": 278,
   "id": "e69ced1d",
   "metadata": {
    "ExecuteTime": {
     "end_time": "2022-11-09T02:06:12.370357Z",
     "start_time": "2022-11-09T02:06:12.359353Z"
    },
    "scrolled": false
   },
   "outputs": [
    {
     "data": {
      "text/plain": [
       "TUNDISH_HEAT_COUNTER         45.000000\n",
       "LADLE_LIFE                   74.000000\n",
       "LADLE_TOTAL_WEIGHT_RS       135.622260\n",
       "LADLE_EMPTY_TIME             87.000000\n",
       "LADLE_FULL_TIME_CURRENT      13.416667\n",
       "CASTING_TIME                 45.000000\n",
       "TRANSFER_TIME_RS_CCM          7.333333\n",
       "t_liquidus                 1508.191270\n",
       "first_afino                1583.000000\n",
       "mean_temp_colada           1539.333333\n",
       "Name: 125243, dtype: float64"
      ]
     },
     "execution_count": 278,
     "metadata": {},
     "output_type": "execute_result"
    }
   ],
   "source": [
    "colada = 125243\n",
    "X_test.loc[colada]"
   ]
  },
  {
   "cell_type": "code",
   "execution_count": 159,
   "id": "2685827b",
   "metadata": {
    "ExecuteTime": {
     "end_time": "2022-11-09T01:25:16.296904Z",
     "start_time": "2022-11-09T01:25:16.267016Z"
    },
    "scrolled": false
   },
   "outputs": [
    {
     "data": {
      "text/html": [
       "<div>\n",
       "<style scoped>\n",
       "    .dataframe tbody tr th:only-of-type {\n",
       "        vertical-align: middle;\n",
       "    }\n",
       "\n",
       "    .dataframe tbody tr th {\n",
       "        vertical-align: top;\n",
       "    }\n",
       "\n",
       "    .dataframe thead th {\n",
       "        text-align: right;\n",
       "    }\n",
       "</style>\n",
       "<table border=\"1\" class=\"dataframe\">\n",
       "  <thead>\n",
       "    <tr style=\"text-align: right;\">\n",
       "      <th></th>\n",
       "      <th>cla_colada</th>\n",
       "      <th>fecha_administrativa</th>\n",
       "      <th>cla_horno</th>\n",
       "      <th>num_tratamiento</th>\n",
       "      <th>hay_distri</th>\n",
       "      <th>hay_empalme</th>\n",
       "      <th>cla_distribuidor</th>\n",
       "      <th>tons_pq_buena</th>\n",
       "      <th>fhr_ini</th>\n",
       "      <th>fhr_fin</th>\n",
       "      <th>...</th>\n",
       "      <th>lquim_f5</th>\n",
       "      <th>fecha_inicio_vaciado</th>\n",
       "      <th>fecha_fin_vaciado</th>\n",
       "      <th>min_duracion_vaciado</th>\n",
       "      <th>tiempo_contacto</th>\n",
       "      <th>Temp_SHeat</th>\n",
       "      <th>Temp_SHeat_Min</th>\n",
       "      <th>Temp_SHeat_Max</th>\n",
       "      <th>tipo_colada</th>\n",
       "      <th>t_liquidus</th>\n",
       "    </tr>\n",
       "  </thead>\n",
       "  <tbody>\n",
       "    <tr>\n",
       "      <th>0</th>\n",
       "      <td>123200</td>\n",
       "      <td>2021-03-30 00:00:00</td>\n",
       "      <td>3</td>\n",
       "      <td>1.0</td>\n",
       "      <td>0.0</td>\n",
       "      <td>1.0</td>\n",
       "      <td>26.0</td>\n",
       "      <td>100.78518</td>\n",
       "      <td>2021-03-29 19:36:33</td>\n",
       "      <td>2021-03-29 20:32:48</td>\n",
       "      <td>...</td>\n",
       "      <td>0.0</td>\n",
       "      <td>NaN</td>\n",
       "      <td>NaN</td>\n",
       "      <td>NaN</td>\n",
       "      <td>NaN</td>\n",
       "      <td>NaN</td>\n",
       "      <td>NaN</td>\n",
       "      <td>NaN</td>\n",
       "      <td>secuencia</td>\n",
       "      <td>1503.92396</td>\n",
       "    </tr>\n",
       "  </tbody>\n",
       "</table>\n",
       "<p>1 rows × 50 columns</p>\n",
       "</div>"
      ],
      "text/plain": [
       "   cla_colada fecha_administrativa  cla_horno  num_tratamiento  hay_distri  \\\n",
       "0      123200  2021-03-30 00:00:00          3              1.0         0.0   \n",
       "\n",
       "   hay_empalme  cla_distribuidor  tons_pq_buena              fhr_ini  \\\n",
       "0          1.0              26.0      100.78518  2021-03-29 19:36:33   \n",
       "\n",
       "               fhr_fin  ... lquim_f5 fecha_inicio_vaciado fecha_fin_vaciado  \\\n",
       "0  2021-03-29 20:32:48  ...      0.0                  NaN               NaN   \n",
       "\n",
       "  min_duracion_vaciado tiempo_contacto  Temp_SHeat  Temp_SHeat_Min  \\\n",
       "0                  NaN             NaN         NaN             NaN   \n",
       "\n",
       "   Temp_SHeat_Max  tipo_colada  t_liquidus  \n",
       "0             NaN    secuencia  1503.92396  \n",
       "\n",
       "[1 rows x 50 columns]"
      ]
     },
     "execution_count": 159,
     "metadata": {},
     "output_type": "execute_result"
    }
   ],
   "source": [
    "data_RW.head(1)"
   ]
  },
  {
   "cell_type": "code",
   "execution_count": 279,
   "id": "fe8a70a5",
   "metadata": {
    "ExecuteTime": {
     "end_time": "2022-11-09T02:06:25.725171Z",
     "start_time": "2022-11-09T02:06:25.717222Z"
    }
   },
   "outputs": [],
   "source": [
    "## Olla anterior colada 125240"
   ]
  },
  {
   "cell_type": "code",
   "execution_count": 280,
   "id": "c65e37fb",
   "metadata": {
    "ExecuteTime": {
     "end_time": "2022-11-09T02:06:38.655723Z",
     "start_time": "2022-11-09T02:06:38.645746Z"
    }
   },
   "outputs": [
    {
     "data": {
      "text/plain": [
       "1954    1557\n",
       "Name: first_afino, dtype: int64"
      ]
     },
     "execution_count": 280,
     "metadata": {},
     "output_type": "execute_result"
    }
   ],
   "source": [
    "RAW[RAW[\"cla_colada\"] == 125244][\"first_afino\"]"
   ]
  },
  {
   "cell_type": "code",
   "execution_count": 281,
   "id": "5fa0b39b",
   "metadata": {
    "ExecuteTime": {
     "end_time": "2022-11-09T02:06:42.155329Z",
     "start_time": "2022-11-09T02:06:42.134382Z"
    }
   },
   "outputs": [
    {
     "data": {
      "text/plain": [
       "1815    136.35642\n",
       "1816    148.21350\n",
       "1817    135.62226\n",
       "1818    112.03578\n",
       "Name: tons_pq_buena, dtype: float64"
      ]
     },
     "execution_count": 281,
     "metadata": {},
     "output_type": "execute_result"
    }
   ],
   "source": [
    "data_RW[data_RW[\"cla_colada\"].isin([125243, 125242, 125241, 125244])][\"tons_pq_buena\"]"
   ]
  },
  {
   "cell_type": "code",
   "execution_count": 282,
   "id": "06f04bfb",
   "metadata": {
    "ExecuteTime": {
     "end_time": "2022-11-09T02:07:02.863872Z",
     "start_time": "2022-11-09T02:07:02.854896Z"
    }
   },
   "outputs": [],
   "source": [
    "# distri_col_contador = 22\n",
    "# col_olla = 52\n",
    "# mean_tons_pq_buena = 115.606530\n",
    "# flujo = 3000\n",
    "# fecha_inicio_vaciado = \"2022-01-15 12:31:10\"\n",
    "# fhr_cierre_vd_ant = \"2022-01-15 11:09:00\"\n",
    "# fhr_abre_vd_ant = \"2022-01-15 10:25:00\"\n",
    "# fecha_hr_ini_trat = \"2022-01-15 12:44:02\"\n",
    "# fecha_hr_ini_trat_ant = \"2022-01-15 09:48:28\"\n",
    "# tpo_min_total_ant = 29.1\n",
    "# t_liquidus = 1474.605780\n",
    "# first_afino = 1521\n",
    "\n",
    "\n",
    "## Definir parametros para prueba en online\n",
    "## colada : 125244\n",
    "distri_col_contador = 46\n",
    "col_olla = 55\n",
    "mean_tons_pq_buena = 140\n",
    "flujo = 3000 ## kg/min para 6 lineas\n",
    "fecha_inicio_vaciado = \"2021-06-16 14:30:00\"\n",
    "fhr_cierre_vd_ant = \"2021-06-16 12:56:00\"\n",
    "fhr_abre_vd_ant = \"2021-06-16 14:28:00\"\n",
    "fecha_hr_ini_trat = \"2021-06-16 14:40:16\"\n",
    "fecha_hr_ini_trat_ant = \"2021-06-16 13:51:25\"\n",
    "tpo_min_total_ant = 29.25\n",
    "t_liquidus = 1496.95203\n",
    "first_afino = 1557"
   ]
  },
  {
   "cell_type": "code",
   "execution_count": 283,
   "id": "75df5bee",
   "metadata": {
    "ExecuteTime": {
     "end_time": "2022-11-09T02:07:16.454466Z",
     "start_time": "2022-11-09T02:07:16.438465Z"
    }
   },
   "outputs": [],
   "source": [
    "X_prueba = Calcular_Features(distri_col_contador, \n",
    "                      col_olla, \n",
    "                      mean_tons_pq_buena,\n",
    "                      flujo,       \n",
    "                      fecha_inicio_vaciado,\n",
    "                      fhr_cierre_vd_ant, \n",
    "                      fhr_abre_vd_ant,\n",
    "                      fecha_hr_ini_trat, \n",
    "                      fecha_hr_ini_trat_ant,\n",
    "                      tpo_min_total_ant,\n",
    "                      t_liquidus,\n",
    "                      first_afino)"
   ]
  },
  {
   "cell_type": "code",
   "execution_count": 284,
   "id": "cf1d940f",
   "metadata": {
    "ExecuteTime": {
     "end_time": "2022-11-09T02:07:17.073867Z",
     "start_time": "2022-11-09T02:07:17.061935Z"
    },
    "scrolled": false
   },
   "outputs": [
    {
     "data": {
      "text/html": [
       "<div>\n",
       "<style scoped>\n",
       "    .dataframe tbody tr th:only-of-type {\n",
       "        vertical-align: middle;\n",
       "    }\n",
       "\n",
       "    .dataframe tbody tr th {\n",
       "        vertical-align: top;\n",
       "    }\n",
       "\n",
       "    .dataframe thead th {\n",
       "        text-align: right;\n",
       "    }\n",
       "</style>\n",
       "<table border=\"1\" class=\"dataframe\">\n",
       "  <thead>\n",
       "    <tr style=\"text-align: right;\">\n",
       "      <th></th>\n",
       "      <th>0</th>\n",
       "    </tr>\n",
       "  </thead>\n",
       "  <tbody>\n",
       "    <tr>\n",
       "      <th>TUNDISH_HEAT_COUNTER</th>\n",
       "      <td>46.000000</td>\n",
       "    </tr>\n",
       "    <tr>\n",
       "      <th>LADLE_LIFE</th>\n",
       "      <td>55.000000</td>\n",
       "    </tr>\n",
       "    <tr>\n",
       "      <th>LADLE_TOTAL_WEIGHT_RS</th>\n",
       "      <td>140.000000</td>\n",
       "    </tr>\n",
       "    <tr>\n",
       "      <th>LADLE_EMPTY_TIME</th>\n",
       "      <td>94.000000</td>\n",
       "    </tr>\n",
       "    <tr>\n",
       "      <th>LADLE_FULL_TIME_CURRENT</th>\n",
       "      <td>10.266667</td>\n",
       "    </tr>\n",
       "    <tr>\n",
       "      <th>CASTING_TIME</th>\n",
       "      <td>46.666667</td>\n",
       "    </tr>\n",
       "    <tr>\n",
       "      <th>TRANSFER_TIME_RS_CCM</th>\n",
       "      <td>7.333333</td>\n",
       "    </tr>\n",
       "    <tr>\n",
       "      <th>t_liquidus</th>\n",
       "      <td>1496.952030</td>\n",
       "    </tr>\n",
       "    <tr>\n",
       "      <th>first_afino</th>\n",
       "      <td>1557.000000</td>\n",
       "    </tr>\n",
       "    <tr>\n",
       "      <th>mean_temp_colada</th>\n",
       "      <td>1521.952030</td>\n",
       "    </tr>\n",
       "  </tbody>\n",
       "</table>\n",
       "</div>"
      ],
      "text/plain": [
       "                                   0\n",
       "TUNDISH_HEAT_COUNTER       46.000000\n",
       "LADLE_LIFE                 55.000000\n",
       "LADLE_TOTAL_WEIGHT_RS     140.000000\n",
       "LADLE_EMPTY_TIME           94.000000\n",
       "LADLE_FULL_TIME_CURRENT    10.266667\n",
       "CASTING_TIME               46.666667\n",
       "TRANSFER_TIME_RS_CCM        7.333333\n",
       "t_liquidus               1496.952030\n",
       "first_afino              1557.000000\n",
       "mean_temp_colada         1521.952030"
      ]
     },
     "execution_count": 284,
     "metadata": {},
     "output_type": "execute_result"
    }
   ],
   "source": [
    "## SIMULACION\n",
    "X_prueba.T"
   ]
  },
  {
   "cell_type": "code",
   "execution_count": 285,
   "id": "c3d92d04",
   "metadata": {
    "ExecuteTime": {
     "end_time": "2022-11-09T02:07:19.480036Z",
     "start_time": "2022-11-09T02:07:19.468037Z"
    }
   },
   "outputs": [
    {
     "data": {
      "text/plain": [
       "TUNDISH_HEAT_COUNTER         46.000000\n",
       "LADLE_LIFE                   55.000000\n",
       "LADLE_TOTAL_WEIGHT_RS       112.035780\n",
       "LADLE_EMPTY_TIME             94.000000\n",
       "LADLE_FULL_TIME_CURRENT      10.266667\n",
       "CASTING_TIME                 45.000000\n",
       "TRANSFER_TIME_RS_CCM          8.216633\n",
       "t_liquidus                 1496.952030\n",
       "first_afino                1557.000000\n",
       "mean_temp_colada           1526.666667\n",
       "Name: 125244, dtype: float64"
      ]
     },
     "execution_count": 285,
     "metadata": {},
     "output_type": "execute_result"
    }
   ],
   "source": [
    "## REAL\n",
    "X_test.loc[125244]"
   ]
  },
  {
   "cell_type": "code",
   "execution_count": 267,
   "id": "df9e74f2",
   "metadata": {
    "ExecuteTime": {
     "end_time": "2022-11-09T02:01:32.986342Z",
     "start_time": "2022-11-09T02:01:32.973811Z"
    }
   },
   "outputs": [
    {
     "data": {
      "text/plain": [
       "TUNDISH_HEAT_COUNTER         46.000000\n",
       "LADLE_LIFE                   55.000000\n",
       "LADLE_TOTAL_WEIGHT_RS       112.035780\n",
       "LADLE_EMPTY_TIME             94.000000\n",
       "LADLE_FULL_TIME_CURRENT      10.266667\n",
       "CASTING_TIME                 45.000000\n",
       "TRANSFER_TIME_RS_CCM          8.216633\n",
       "t_liquidus                 1496.952030\n",
       "first_afino                1557.000000\n",
       "mean_temp_colada           1526.666667\n",
       "Name: 125244, dtype: float64"
      ]
     },
     "execution_count": 267,
     "metadata": {},
     "output_type": "execute_result"
    }
   ],
   "source": [
    "X_test.loc[125244]"
   ]
  },
  {
   "cell_type": "code",
   "execution_count": 268,
   "id": "2b53035d",
   "metadata": {
    "ExecuteTime": {
     "end_time": "2022-11-09T02:01:35.398429Z",
     "start_time": "2022-11-09T02:01:35.390450Z"
    }
   },
   "outputs": [
    {
     "data": {
      "text/plain": [
       "array([1561.14126812])"
      ]
     },
     "execution_count": 268,
     "metadata": {},
     "output_type": "execute_result"
    }
   ],
   "source": [
    "model.predict(X_prueba)"
   ]
  },
  {
   "cell_type": "code",
   "execution_count": 269,
   "id": "aa34666c",
   "metadata": {
    "ExecuteTime": {
     "end_time": "2022-11-09T02:01:37.232198Z",
     "start_time": "2022-11-09T02:01:37.215734Z"
    },
    "scrolled": true
   },
   "outputs": [
    {
     "data": {
      "text/plain": [
       "array([1565.05932634])"
      ]
     },
     "execution_count": 269,
     "metadata": {},
     "output_type": "execute_result"
    }
   ],
   "source": [
    "model.predict(pd.DataFrame(X_test.loc[125244]).T)"
   ]
  },
  {
   "cell_type": "code",
   "execution_count": 270,
   "id": "0779ad2e",
   "metadata": {
    "ExecuteTime": {
     "end_time": "2022-11-09T02:01:41.920432Z",
     "start_time": "2022-11-09T02:01:41.906432Z"
    }
   },
   "outputs": [
    {
     "data": {
      "text/plain": [
       "1563"
      ]
     },
     "execution_count": 270,
     "metadata": {},
     "output_type": "execute_result"
    }
   ],
   "source": [
    "y_test[125244]"
   ]
  },
  {
   "cell_type": "code",
   "execution_count": 290,
   "id": "25fa7e89",
   "metadata": {
    "ExecuteTime": {
     "end_time": "2022-11-09T02:13:20.671427Z",
     "start_time": "2022-11-09T02:13:20.651481Z"
    }
   },
   "outputs": [
    {
     "data": {
      "text/plain": [
       "1818    29.714637\n",
       "Name: SH_promedio, dtype: float64"
      ]
     },
     "execution_count": 290,
     "metadata": {},
     "output_type": "execute_result"
    }
   ],
   "source": [
    "# Superheat real para comparar\n",
    "df_temp[df_temp[\"cla_colada\"] == 125244][\"SH_promedio\"]"
   ]
  },
  {
   "cell_type": "code",
   "execution_count": null,
   "id": "91f82264",
   "metadata": {},
   "outputs": [],
   "source": []
  }
 ],
 "metadata": {
  "kernelspec": {
   "display_name": "deacero",
   "language": "python",
   "name": "deacero"
  },
  "language_info": {
   "codemirror_mode": {
    "name": "ipython",
    "version": 3
   },
   "file_extension": ".py",
   "mimetype": "text/x-python",
   "name": "python",
   "nbconvert_exporter": "python",
   "pygments_lexer": "ipython3",
   "version": "3.6.13"
  },
  "toc": {
   "base_numbering": 1,
   "nav_menu": {},
   "number_sections": true,
   "sideBar": true,
   "skip_h1_title": false,
   "title_cell": "Table of Contents",
   "title_sidebar": "Contents",
   "toc_cell": false,
   "toc_position": {
    "height": "calc(100% - 180px)",
    "left": "10px",
    "top": "150px",
    "width": "298px"
   },
   "toc_section_display": true,
   "toc_window_display": true
  },
  "varInspector": {
   "cols": {
    "lenName": 16,
    "lenType": 16,
    "lenVar": 40
   },
   "kernels_config": {
    "python": {
     "delete_cmd_postfix": "",
     "delete_cmd_prefix": "del ",
     "library": "var_list.py",
     "varRefreshCmd": "print(var_dic_list())"
    },
    "r": {
     "delete_cmd_postfix": ") ",
     "delete_cmd_prefix": "rm(",
     "library": "var_list.r",
     "varRefreshCmd": "cat(var_dic_list()) "
    }
   },
   "types_to_exclude": [
    "module",
    "function",
    "builtin_function_or_method",
    "instance",
    "_Feature"
   ],
   "window_display": false
  }
 },
 "nbformat": 4,
 "nbformat_minor": 5
}
